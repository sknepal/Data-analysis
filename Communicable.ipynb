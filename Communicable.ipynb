{
 "cells": [
  {
   "cell_type": "code",
   "execution_count": 1,
   "metadata": {
    "collapsed": true
   },
   "outputs": [],
   "source": [
    "import numpy as np\n",
    "\n",
    "import pandas as pd\n",
    "\n",
    "from pandas import Series, DataFrame\n",
    "\n",
    "import seaborn as sns\n",
    "sns.set_style('whitegrid')\n",
    "%matplotlib inline\n",
    "\n",
    "from __future__ import division"
   ]
  },
  {
   "cell_type": "code",
   "execution_count": 2,
   "metadata": {
    "collapsed": true
   },
   "outputs": [],
   "source": [
    "problems_df = pd.read_csv('communicable.csv')"
   ]
  },
  {
   "cell_type": "code",
   "execution_count": 3,
   "metadata": {
    "collapsed": false
   },
   "outputs": [
    {
     "name": "stdout",
     "output_type": "stream",
     "text": [
      "<class 'pandas.core.frame.DataFrame'>\n",
      "Int64Index: 1196 entries, 0 to 1195\n",
      "Data columns (total 4 columns):\n",
      "Year                                   1196 non-null object\n",
      "District                               1196 non-null object\n",
      "Communicable and infectious disease    1196 non-null object\n",
      "Number of people                       1196 non-null int64\n",
      "dtypes: int64(1), object(3)\n",
      "memory usage: 46.7+ KB\n"
     ]
    }
   ],
   "source": [
    "problems_df.info()"
   ]
  },
  {
   "cell_type": "code",
   "execution_count": 4,
   "metadata": {
    "collapsed": false
   },
   "outputs": [
    {
     "data": {
      "text/html": [
       "<div>\n",
       "<table border=\"1\" class=\"dataframe\">\n",
       "  <thead>\n",
       "    <tr>\n",
       "      <th></th>\n",
       "      <th colspan=\"4\" halign=\"left\">Number of people</th>\n",
       "    </tr>\n",
       "    <tr>\n",
       "      <th>Communicable and infectious disease</th>\n",
       "      <th>Confirmed Meningitis</th>\n",
       "      <th>HIV/AIDS</th>\n",
       "      <th>Leprosy</th>\n",
       "      <th>STD/STI</th>\n",
       "    </tr>\n",
       "    <tr>\n",
       "      <th>Year</th>\n",
       "      <th></th>\n",
       "      <th></th>\n",
       "      <th></th>\n",
       "      <th></th>\n",
       "    </tr>\n",
       "  </thead>\n",
       "  <tbody>\n",
       "    <tr>\n",
       "      <th>2009/010</th>\n",
       "      <td>1581</td>\n",
       "      <td>3864</td>\n",
       "      <td>2536</td>\n",
       "      <td>50112</td>\n",
       "    </tr>\n",
       "    <tr>\n",
       "      <th>2010/011</th>\n",
       "      <td>1552</td>\n",
       "      <td>2240</td>\n",
       "      <td>1572</td>\n",
       "      <td>42992</td>\n",
       "    </tr>\n",
       "    <tr>\n",
       "      <th>2011/012</th>\n",
       "      <td>1403</td>\n",
       "      <td>2151</td>\n",
       "      <td>1880</td>\n",
       "      <td>41370</td>\n",
       "    </tr>\n",
       "    <tr>\n",
       "      <th>2012/013</th>\n",
       "      <td>2801</td>\n",
       "      <td>3243</td>\n",
       "      <td>2304</td>\n",
       "      <td>45892</td>\n",
       "    </tr>\n",
       "  </tbody>\n",
       "</table>\n",
       "</div>"
      ],
      "text/plain": [
       "                                        Number of people                   \\\n",
       "Communicable and infectious disease Confirmed Meningitis HIV/AIDS Leprosy   \n",
       "Year                                                                        \n",
       "2009/010                                            1581     3864    2536   \n",
       "2010/011                                            1552     2240    1572   \n",
       "2011/012                                            1403     2151    1880   \n",
       "2012/013                                            2801     3243    2304   \n",
       "\n",
       "                                             \n",
       "Communicable and infectious disease STD/STI  \n",
       "Year                                         \n",
       "2009/010                              50112  \n",
       "2010/011                              42992  \n",
       "2011/012                              41370  \n",
       "2012/013                              45892  "
      ]
     },
     "execution_count": 4,
     "metadata": {},
     "output_type": "execute_result"
    }
   ],
   "source": [
    "year_df = problems_df.pivot_table(index='Year',columns='Communicable and infectious disease',aggfunc=sum)\n",
    "year_df"
   ]
  },
  {
   "cell_type": "code",
   "execution_count": 6,
   "metadata": {
    "collapsed": false
   },
   "outputs": [
    {
     "data": {
      "text/plain": [
       "<matplotlib.legend.Legend at 0x7f684b38ea50>"
      ]
     },
     "execution_count": 6,
     "metadata": {},
     "output_type": "execute_result"
    },
    {
     "data": {
      "image/png": "[encoded data removed]",
      "text/plain": [
       "<matplotlib.figure.Figure at 0x7f6859618e50>"
      ]
     },
     "metadata": {},
     "output_type": "display_data"
    }
   ],
   "source": [
    "year_df.plot(figsize=(12,5),kind='bar').legend(loc='center left', bbox_to_anchor=(1, 0.5), prop={'size':15})"
   ]
  },
  {
   "cell_type": "code",
   "execution_count": 7,
   "metadata": {
    "collapsed": false
   },
   "outputs": [
    {
     "data": {
      "text/html": [
       "<div>\n",
       "<table border=\"1\" class=\"dataframe\">\n",
       "  <thead>\n",
       "    <tr>\n",
       "      <th></th>\n",
       "      <th></th>\n",
       "      <th colspan=\"4\" halign=\"left\">Number of people</th>\n",
       "    </tr>\n",
       "    <tr>\n",
       "      <th></th>\n",
       "      <th>Communicable and infectious disease</th>\n",
       "      <th>Confirmed Meningitis</th>\n",
       "      <th>HIV/AIDS</th>\n",
       "      <th>Leprosy</th>\n",
       "      <th>STD/STI</th>\n",
       "    </tr>\n",
       "    <tr>\n",
       "      <th></th>\n",
       "      <th>Communicable and infectious disease</th>\n",
       "      <th></th>\n",
       "      <th></th>\n",
       "      <th></th>\n",
       "      <th></th>\n",
       "    </tr>\n",
       "  </thead>\n",
       "  <tbody>\n",
       "    <tr>\n",
       "      <th rowspan=\"4\" valign=\"top\">Number of people</th>\n",
       "      <th>Confirmed Meningitis</th>\n",
       "      <td>1.000000</td>\n",
       "      <td>0.371484</td>\n",
       "      <td>0.394429</td>\n",
       "      <td>0.227642</td>\n",
       "    </tr>\n",
       "    <tr>\n",
       "      <th>HIV/AIDS</th>\n",
       "      <td>0.371484</td>\n",
       "      <td>1.000000</td>\n",
       "      <td>0.939495</td>\n",
       "      <td>0.978907</td>\n",
       "    </tr>\n",
       "    <tr>\n",
       "      <th>Leprosy</th>\n",
       "      <td>0.394429</td>\n",
       "      <td>0.939495</td>\n",
       "      <td>1.000000</td>\n",
       "      <td>0.864225</td>\n",
       "    </tr>\n",
       "    <tr>\n",
       "      <th>STD/STI</th>\n",
       "      <td>0.227642</td>\n",
       "      <td>0.978907</td>\n",
       "      <td>0.864225</td>\n",
       "      <td>1.000000</td>\n",
       "    </tr>\n",
       "  </tbody>\n",
       "</table>\n",
       "</div>"
      ],
      "text/plain": [
       "                                                         Number of people  \\\n",
       "Communicable and infectious disease                  Confirmed Meningitis   \n",
       "                 Communicable and infectious disease                        \n",
       "Number of people Confirmed Meningitis                            1.000000   \n",
       "                 HIV/AIDS                                        0.371484   \n",
       "                 Leprosy                                         0.394429   \n",
       "                 STD/STI                                         0.227642   \n",
       "\n",
       "                                                                          \\\n",
       "Communicable and infectious disease                   HIV/AIDS   Leprosy   \n",
       "                 Communicable and infectious disease                       \n",
       "Number of people Confirmed Meningitis                 0.371484  0.394429   \n",
       "                 HIV/AIDS                             1.000000  0.939495   \n",
       "                 Leprosy                              0.939495  1.000000   \n",
       "                 STD/STI                              0.978907  0.864225   \n",
       "\n",
       "                                                                \n",
       "Communicable and infectious disease                    STD/STI  \n",
       "                 Communicable and infectious disease            \n",
       "Number of people Confirmed Meningitis                 0.227642  \n",
       "                 HIV/AIDS                             0.978907  \n",
       "                 Leprosy                              0.864225  \n",
       "                 STD/STI                              1.000000  "
      ]
     },
     "execution_count": 7,
     "metadata": {},
     "output_type": "execute_result"
    }
   ],
   "source": [
    "year_df.corr()"
   ]
  },
  {
   "cell_type": "code",
   "execution_count": 8,
   "metadata": {
    "collapsed": true
   },
   "outputs": [],
   "source": [
    "idx = problems_df.groupby(['Year','Communicable and infectious disease'], sort=False)['Number of people'].transform(max) == problems_df['Number of people']"
   ]
  },
  {
   "cell_type": "code",
   "execution_count": 9,
   "metadata": {
    "collapsed": false
   },
   "outputs": [
    {
     "data": {
      "text/html": [
       "<div>\n",
       "<table border=\"1\" class=\"dataframe\">\n",
       "  <thead>\n",
       "    <tr style=\"text-align: right;\">\n",
       "      <th></th>\n",
       "      <th>Year</th>\n",
       "      <th>District</th>\n",
       "      <th>Communicable and infectious disease</th>\n",
       "      <th>Number of people</th>\n",
       "    </tr>\n",
       "  </thead>\n",
       "  <tbody>\n",
       "    <tr>\n",
       "      <th>185</th>\n",
       "      <td>2009/010</td>\n",
       "      <td>Parbat</td>\n",
       "      <td>HIV/AIDS</td>\n",
       "      <td>1458</td>\n",
       "    </tr>\n",
       "    <tr>\n",
       "      <th>186</th>\n",
       "      <td>2009/010</td>\n",
       "      <td>Parbat</td>\n",
       "      <td>Leprosy</td>\n",
       "      <td>406</td>\n",
       "    </tr>\n",
       "    <tr>\n",
       "      <th>204</th>\n",
       "      <td>2009/010</td>\n",
       "      <td>Bardiya</td>\n",
       "      <td>STD/STI</td>\n",
       "      <td>5057</td>\n",
       "    </tr>\n",
       "    <tr>\n",
       "      <th>251</th>\n",
       "      <td>2009/010</td>\n",
       "      <td>Rukum</td>\n",
       "      <td>Confirmed Meningitis</td>\n",
       "      <td>210</td>\n",
       "    </tr>\n",
       "    <tr>\n",
       "      <th>310</th>\n",
       "      <td>2010/011</td>\n",
       "      <td>Jhapa</td>\n",
       "      <td>Leprosy</td>\n",
       "      <td>175</td>\n",
       "    </tr>\n",
       "    <tr>\n",
       "      <th>315</th>\n",
       "      <td>2010/011</td>\n",
       "      <td>Morang</td>\n",
       "      <td>Confirmed Meningitis</td>\n",
       "      <td>292</td>\n",
       "    </tr>\n",
       "    <tr>\n",
       "      <th>524</th>\n",
       "      <td>2010/011</td>\n",
       "      <td>Bardiya</td>\n",
       "      <td>STD/STI</td>\n",
       "      <td>4837</td>\n",
       "    </tr>\n",
       "    <tr>\n",
       "      <th>569</th>\n",
       "      <td>2010/011</td>\n",
       "      <td>Achham</td>\n",
       "      <td>HIV/AIDS</td>\n",
       "      <td>551</td>\n",
       "    </tr>\n",
       "    <tr>\n",
       "      <th>608</th>\n",
       "      <td>2012/013</td>\n",
       "      <td>Jhapa</td>\n",
       "      <td>STD/STI</td>\n",
       "      <td>3290</td>\n",
       "    </tr>\n",
       "    <tr>\n",
       "      <th>662</th>\n",
       "      <td>2012/013</td>\n",
       "      <td>Dhanusha</td>\n",
       "      <td>Leprosy</td>\n",
       "      <td>281</td>\n",
       "    </tr>\n",
       "    <tr>\n",
       "      <th>779</th>\n",
       "      <td>2012/013</td>\n",
       "      <td>Gulmi</td>\n",
       "      <td>Confirmed Meningitis</td>\n",
       "      <td>627</td>\n",
       "    </tr>\n",
       "    <tr>\n",
       "      <th>869</th>\n",
       "      <td>2012/013</td>\n",
       "      <td>Achham</td>\n",
       "      <td>HIV/AIDS</td>\n",
       "      <td>1197</td>\n",
       "    </tr>\n",
       "    <tr>\n",
       "      <th>908</th>\n",
       "      <td>2011/012</td>\n",
       "      <td>Jhapa</td>\n",
       "      <td>STD/STI</td>\n",
       "      <td>2895</td>\n",
       "    </tr>\n",
       "    <tr>\n",
       "      <th>962</th>\n",
       "      <td>2011/012</td>\n",
       "      <td>Dhanusha</td>\n",
       "      <td>Leprosy</td>\n",
       "      <td>302</td>\n",
       "    </tr>\n",
       "    <tr>\n",
       "      <th>1083</th>\n",
       "      <td>2011/012</td>\n",
       "      <td>Palpa</td>\n",
       "      <td>Confirmed Meningitis</td>\n",
       "      <td>303</td>\n",
       "    </tr>\n",
       "    <tr>\n",
       "      <th>1169</th>\n",
       "      <td>2011/012</td>\n",
       "      <td>Achham</td>\n",
       "      <td>HIV/AIDS</td>\n",
       "      <td>865</td>\n",
       "    </tr>\n",
       "  </tbody>\n",
       "</table>\n",
       "</div>"
      ],
      "text/plain": [
       "          Year  District Communicable and infectious disease  Number of people\n",
       "185   2009/010    Parbat                            HIV/AIDS              1458\n",
       "186   2009/010    Parbat                             Leprosy               406\n",
       "204   2009/010   Bardiya                             STD/STI              5057\n",
       "251   2009/010     Rukum                Confirmed Meningitis               210\n",
       "310   2010/011     Jhapa                             Leprosy               175\n",
       "315   2010/011    Morang                Confirmed Meningitis               292\n",
       "524   2010/011   Bardiya                             STD/STI              4837\n",
       "569   2010/011    Achham                            HIV/AIDS               551\n",
       "608   2012/013     Jhapa                             STD/STI              3290\n",
       "662   2012/013  Dhanusha                             Leprosy               281\n",
       "779   2012/013     Gulmi                Confirmed Meningitis               627\n",
       "869   2012/013    Achham                            HIV/AIDS              1197\n",
       "908   2011/012     Jhapa                             STD/STI              2895\n",
       "962   2011/012  Dhanusha                             Leprosy               302\n",
       "1083  2011/012     Palpa                Confirmed Meningitis               303\n",
       "1169  2011/012    Achham                            HIV/AIDS               865"
      ]
     },
     "execution_count": 9,
     "metadata": {},
     "output_type": "execute_result"
    }
   ],
   "source": [
    "problems_df[idx]"
   ]
  },
  {
   "cell_type": "code",
   "execution_count": 12,
   "metadata": {
    "collapsed": false
   },
   "outputs": [
    {
     "data": {
      "text/html": [
       "<div>\n",
       "<table border=\"1\" class=\"dataframe\">\n",
       "  <thead>\n",
       "    <tr style=\"text-align: right;\">\n",
       "      <th></th>\n",
       "      <th>Year</th>\n",
       "      <th>District</th>\n",
       "      <th>Communicable and infectious disease</th>\n",
       "      <th>Number of people</th>\n",
       "    </tr>\n",
       "  </thead>\n",
       "  <tbody>\n",
       "    <tr>\n",
       "      <th>156</th>\n",
       "      <td>2009/010</td>\n",
       "      <td>Kaski</td>\n",
       "      <td>STD/STI</td>\n",
       "      <td>428</td>\n",
       "    </tr>\n",
       "    <tr>\n",
       "      <th>157</th>\n",
       "      <td>2009/010</td>\n",
       "      <td>Kaski</td>\n",
       "      <td>HIV/AIDS</td>\n",
       "      <td>8</td>\n",
       "    </tr>\n",
       "    <tr>\n",
       "      <th>158</th>\n",
       "      <td>2009/010</td>\n",
       "      <td>Kaski</td>\n",
       "      <td>Leprosy</td>\n",
       "      <td>65</td>\n",
       "    </tr>\n",
       "    <tr>\n",
       "      <th>159</th>\n",
       "      <td>2009/010</td>\n",
       "      <td>Kaski</td>\n",
       "      <td>Confirmed Meningitis</td>\n",
       "      <td>34</td>\n",
       "    </tr>\n",
       "    <tr>\n",
       "      <th>452</th>\n",
       "      <td>2010/011</td>\n",
       "      <td>Kaski</td>\n",
       "      <td>STD/STI</td>\n",
       "      <td>426</td>\n",
       "    </tr>\n",
       "    <tr>\n",
       "      <th>453</th>\n",
       "      <td>2010/011</td>\n",
       "      <td>Kaski</td>\n",
       "      <td>HIV/AIDS</td>\n",
       "      <td>9</td>\n",
       "    </tr>\n",
       "    <tr>\n",
       "      <th>454</th>\n",
       "      <td>2010/011</td>\n",
       "      <td>Kaski</td>\n",
       "      <td>Leprosy</td>\n",
       "      <td>35</td>\n",
       "    </tr>\n",
       "    <tr>\n",
       "      <th>455</th>\n",
       "      <td>2010/011</td>\n",
       "      <td>Kaski</td>\n",
       "      <td>Confirmed Meningitis</td>\n",
       "      <td>195</td>\n",
       "    </tr>\n",
       "    <tr>\n",
       "      <th>752</th>\n",
       "      <td>2012/013</td>\n",
       "      <td>Kaski</td>\n",
       "      <td>STD/STI</td>\n",
       "      <td>1538</td>\n",
       "    </tr>\n",
       "    <tr>\n",
       "      <th>753</th>\n",
       "      <td>2012/013</td>\n",
       "      <td>Kaski</td>\n",
       "      <td>HIV/AIDS</td>\n",
       "      <td>140</td>\n",
       "    </tr>\n",
       "    <tr>\n",
       "      <th>754</th>\n",
       "      <td>2012/013</td>\n",
       "      <td>Kaski</td>\n",
       "      <td>Leprosy</td>\n",
       "      <td>25</td>\n",
       "    </tr>\n",
       "    <tr>\n",
       "      <th>755</th>\n",
       "      <td>2012/013</td>\n",
       "      <td>Kaski</td>\n",
       "      <td>Confirmed Meningitis</td>\n",
       "      <td>268</td>\n",
       "    </tr>\n",
       "    <tr>\n",
       "      <th>1052</th>\n",
       "      <td>2011/012</td>\n",
       "      <td>Kaski</td>\n",
       "      <td>STD/STI</td>\n",
       "      <td>994</td>\n",
       "    </tr>\n",
       "    <tr>\n",
       "      <th>1053</th>\n",
       "      <td>2011/012</td>\n",
       "      <td>Kaski</td>\n",
       "      <td>HIV/AIDS</td>\n",
       "      <td>71</td>\n",
       "    </tr>\n",
       "    <tr>\n",
       "      <th>1054</th>\n",
       "      <td>2011/012</td>\n",
       "      <td>Kaski</td>\n",
       "      <td>Leprosy</td>\n",
       "      <td>20</td>\n",
       "    </tr>\n",
       "    <tr>\n",
       "      <th>1055</th>\n",
       "      <td>2011/012</td>\n",
       "      <td>Kaski</td>\n",
       "      <td>Confirmed Meningitis</td>\n",
       "      <td>238</td>\n",
       "    </tr>\n",
       "  </tbody>\n",
       "</table>\n",
       "</div>"
      ],
      "text/plain": [
       "          Year District Communicable and infectious disease  Number of people\n",
       "156   2009/010    Kaski                             STD/STI               428\n",
       "157   2009/010    Kaski                            HIV/AIDS                 8\n",
       "158   2009/010    Kaski                             Leprosy                65\n",
       "159   2009/010    Kaski                Confirmed Meningitis                34\n",
       "452   2010/011    Kaski                             STD/STI               426\n",
       "453   2010/011    Kaski                            HIV/AIDS                 9\n",
       "454   2010/011    Kaski                             Leprosy                35\n",
       "455   2010/011    Kaski                Confirmed Meningitis               195\n",
       "752   2012/013    Kaski                             STD/STI              1538\n",
       "753   2012/013    Kaski                            HIV/AIDS               140\n",
       "754   2012/013    Kaski                             Leprosy                25\n",
       "755   2012/013    Kaski                Confirmed Meningitis               268\n",
       "1052  2011/012    Kaski                             STD/STI               994\n",
       "1053  2011/012    Kaski                            HIV/AIDS                71\n",
       "1054  2011/012    Kaski                             Leprosy                20\n",
       "1055  2011/012    Kaski                Confirmed Meningitis               238"
      ]
     },
     "execution_count": 12,
     "metadata": {},
     "output_type": "execute_result"
    }
   ],
   "source": [
    "problems_df[problems_df.District=='Kaski']"
   ]
  },
  {
   "cell_type": "code",
   "execution_count": 13,
   "metadata": {
    "collapsed": true
   },
   "outputs": [],
   "source": [
    "idx = problems_df.groupby(['District','Communicable and infectious disease'], sort=False)['Number of people'].transform(max) == problems_df['Number of people']"
   ]
  },
  {
   "cell_type": "code",
   "execution_count": 23,
   "metadata": {
    "collapsed": false
   },
   "outputs": [
    {
     "data": {
      "text/plain": [
       "<seaborn.axisgrid.FacetGrid at 0x7f6846c34890>"
      ]
     },
     "execution_count": 23,
     "metadata": {},
     "output_type": "execute_result"
    },
    {
     "data": {
      "image/png": "[encoded data removed]",
      "text/plain": [
       "<matplotlib.figure.Figure at 0x7f6844b7e6d0>"
      ]
     },
     "metadata": {},
     "output_type": "display_data"
    }
   ],
   "source": [
    "sns.factorplot('Year', 'Number of people', hue='Communicable and infectious disease',data=problems_df[idx], aspect=3, size=5)"
   ]
  },
  {
   "cell_type": "code",
   "execution_count": null,
   "metadata": {
    "collapsed": true
   },
   "outputs": [],
   "source": []
  }
 ],
 "metadata": {
  "kernelspec": {
   "display_name": "Python [Root]",
   "language": "python",
   "name": "Python [Root]"
  },
  "language_info": {
   "codemirror_mode": {
    "name": "ipython",
    "version": 2
   },
   "file_extension": ".py",
   "mimetype": "text/x-python",
   "name": "python",
   "nbconvert_exporter": "python",
   "pygments_lexer": "ipython2",
   "version": "2.7.11"
  }
 },
 "nbformat": 4,
 "nbformat_minor": 0
}
