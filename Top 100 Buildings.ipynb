{
 "cells": [
  {
   "cell_type": "code",
   "execution_count": 42,
   "metadata": {
    "collapsed": true
   },
   "outputs": [],
   "source": [
    "import numpy as np\n",
    "\n",
    "import pandas as pd\n",
    "\n",
    "from pandas import Series, DataFrame"
   ]
  },
  {
   "cell_type": "code",
   "execution_count": 43,
   "metadata": {
    "collapsed": true
   },
   "outputs": [],
   "source": [
    "building_frame = pd.read_csv('magic.csv')"
   ]
  },
  {
   "cell_type": "code",
   "execution_count": 44,
   "metadata": {
    "collapsed": false
   },
   "outputs": [
    {
     "data": {
      "text/html": [
       "<div>\n",
       "<table border=\"1\" class=\"dataframe\">\n",
       "  <thead>\n",
       "    <tr style=\"text-align: right;\">\n",
       "      <th></th>\n",
       "      <th>number</th>\n",
       "      <th>status_label</th>\n",
       "      <th>buildingname_link</th>\n",
       "      <th>buildingname_link/_text</th>\n",
       "      <th>buildingname_link/_title</th>\n",
       "      <th>city_link_1</th>\n",
       "      <th>city_link_1/_text</th>\n",
       "      <th>city_link_1/_title</th>\n",
       "      <th>city_label_1</th>\n",
       "      <th>city_link_2</th>\n",
       "      <th>city_link_2/_text</th>\n",
       "      <th>city_link_2/_title</th>\n",
       "      <th>city_label_2</th>\n",
       "      <th>heightm_number</th>\n",
       "      <th>heightft_number</th>\n",
       "      <th>floors_number</th>\n",
       "      <th>completed_number</th>\n",
       "      <th>material_value</th>\n",
       "      <th>use_value</th>\n",
       "    </tr>\n",
       "  </thead>\n",
       "  <tbody>\n",
       "    <tr>\n",
       "      <th>0</th>\n",
       "      <td>1</td>\n",
       "      <td>COM</td>\n",
       "      <td>http://skyscrapercenter.com/building/burj-khal...</td>\n",
       "      <td>Burj Khalifa</td>\n",
       "      <td>NaN</td>\n",
       "      <td>http://skyscrapercenter.com/city/dubai</td>\n",
       "      <td>Dubai</td>\n",
       "      <td>NaN</td>\n",
       "      <td>(</td>\n",
       "      <td>http://skyscrapercenter.com/country/united-ara...</td>\n",
       "      <td>AE</td>\n",
       "      <td>NaN</td>\n",
       "      <td>)</td>\n",
       "      <td>828.0</td>\n",
       "      <td>2717</td>\n",
       "      <td>163</td>\n",
       "      <td>2010</td>\n",
       "      <td>steel/concrete</td>\n",
       "      <td>office / residential / hotel</td>\n",
       "    </tr>\n",
       "    <tr>\n",
       "      <th>1</th>\n",
       "      <td>2</td>\n",
       "      <td>COM</td>\n",
       "      <td>http://skyscrapercenter.com/building/makkah-ro...</td>\n",
       "      <td>Makkah Royal Clock Tower Hotel</td>\n",
       "      <td>NaN</td>\n",
       "      <td>http://skyscrapercenter.com/city/mecca</td>\n",
       "      <td>Mecca</td>\n",
       "      <td>NaN</td>\n",
       "      <td>(</td>\n",
       "      <td>http://skyscrapercenter.com/country/saudi-arabia</td>\n",
       "      <td>SA</td>\n",
       "      <td>NaN</td>\n",
       "      <td>)</td>\n",
       "      <td>601.0</td>\n",
       "      <td>1972</td>\n",
       "      <td>120</td>\n",
       "      <td>2012</td>\n",
       "      <td>steel/concrete</td>\n",
       "      <td>other / hotel</td>\n",
       "    </tr>\n",
       "    <tr>\n",
       "      <th>2</th>\n",
       "      <td>3</td>\n",
       "      <td>COM</td>\n",
       "      <td>http://skyscrapercenter.com/building/one-world...</td>\n",
       "      <td>One World Trade Center</td>\n",
       "      <td>NaN</td>\n",
       "      <td>http://skyscrapercenter.com/city/new-york-city</td>\n",
       "      <td>New York City</td>\n",
       "      <td>NaN</td>\n",
       "      <td>(</td>\n",
       "      <td>http://skyscrapercenter.com/country/united-states</td>\n",
       "      <td>US</td>\n",
       "      <td>NaN</td>\n",
       "      <td>)</td>\n",
       "      <td>541.3</td>\n",
       "      <td>1776</td>\n",
       "      <td>94</td>\n",
       "      <td>2014</td>\n",
       "      <td>composite</td>\n",
       "      <td>office</td>\n",
       "    </tr>\n",
       "    <tr>\n",
       "      <th>3</th>\n",
       "      <td>4</td>\n",
       "      <td>COM</td>\n",
       "      <td>http://skyscrapercenter.com/building/taipei-10...</td>\n",
       "      <td>TAIPEI 101</td>\n",
       "      <td>NaN</td>\n",
       "      <td>http://skyscrapercenter.com/city/taipei</td>\n",
       "      <td>Taipei</td>\n",
       "      <td>NaN</td>\n",
       "      <td>(</td>\n",
       "      <td>http://skyscrapercenter.com/country/republic-o...</td>\n",
       "      <td>TW</td>\n",
       "      <td>NaN</td>\n",
       "      <td>)</td>\n",
       "      <td>508.0</td>\n",
       "      <td>1667</td>\n",
       "      <td>101</td>\n",
       "      <td>2004</td>\n",
       "      <td>composite</td>\n",
       "      <td>office</td>\n",
       "    </tr>\n",
       "    <tr>\n",
       "      <th>4</th>\n",
       "      <td>5</td>\n",
       "      <td>COM</td>\n",
       "      <td>http://skyscrapercenter.com/building/shanghai-...</td>\n",
       "      <td>Shanghai World Financial Center</td>\n",
       "      <td>NaN</td>\n",
       "      <td>http://skyscrapercenter.com/city/shanghai</td>\n",
       "      <td>Shanghai</td>\n",
       "      <td>NaN</td>\n",
       "      <td>(</td>\n",
       "      <td>http://skyscrapercenter.com/country/china</td>\n",
       "      <td>CN</td>\n",
       "      <td>NaN</td>\n",
       "      <td>)</td>\n",
       "      <td>492.0</td>\n",
       "      <td>1614</td>\n",
       "      <td>101</td>\n",
       "      <td>2008</td>\n",
       "      <td>composite</td>\n",
       "      <td>hotel / office</td>\n",
       "    </tr>\n",
       "  </tbody>\n",
       "</table>\n",
       "</div>"
      ],
      "text/plain": [
       "   number status_label                                  buildingname_link  \\\n",
       "0       1          COM  http://skyscrapercenter.com/building/burj-khal...   \n",
       "1       2          COM  http://skyscrapercenter.com/building/makkah-ro...   \n",
       "2       3          COM  http://skyscrapercenter.com/building/one-world...   \n",
       "3       4          COM  http://skyscrapercenter.com/building/taipei-10...   \n",
       "4       5          COM  http://skyscrapercenter.com/building/shanghai-...   \n",
       "\n",
       "           buildingname_link/_text  buildingname_link/_title  \\\n",
       "0                     Burj Khalifa                       NaN   \n",
       "1   Makkah Royal Clock Tower Hotel                       NaN   \n",
       "2           One World Trade Center                       NaN   \n",
       "3                       TAIPEI 101                       NaN   \n",
       "4  Shanghai World Financial Center                       NaN   \n",
       "\n",
       "                                      city_link_1 city_link_1/_text  \\\n",
       "0          http://skyscrapercenter.com/city/dubai             Dubai   \n",
       "1          http://skyscrapercenter.com/city/mecca             Mecca   \n",
       "2  http://skyscrapercenter.com/city/new-york-city     New York City   \n",
       "3         http://skyscrapercenter.com/city/taipei            Taipei   \n",
       "4       http://skyscrapercenter.com/city/shanghai          Shanghai   \n",
       "\n",
       "   city_link_1/_title city_label_1  \\\n",
       "0                 NaN            (   \n",
       "1                 NaN            (   \n",
       "2                 NaN            (   \n",
       "3                 NaN            (   \n",
       "4                 NaN            (   \n",
       "\n",
       "                                         city_link_2 city_link_2/_text  \\\n",
       "0  http://skyscrapercenter.com/country/united-ara...                AE   \n",
       "1   http://skyscrapercenter.com/country/saudi-arabia                SA   \n",
       "2  http://skyscrapercenter.com/country/united-states                US   \n",
       "3  http://skyscrapercenter.com/country/republic-o...                TW   \n",
       "4          http://skyscrapercenter.com/country/china                CN   \n",
       "\n",
       "   city_link_2/_title city_label_2  heightm_number  heightft_number  \\\n",
       "0                 NaN            )           828.0             2717   \n",
       "1                 NaN            )           601.0             1972   \n",
       "2                 NaN            )           541.3             1776   \n",
       "3                 NaN            )           508.0             1667   \n",
       "4                 NaN            )           492.0             1614   \n",
       "\n",
       "   floors_number  completed_number  material_value  \\\n",
       "0            163              2010  steel/concrete   \n",
       "1            120              2012  steel/concrete   \n",
       "2             94              2014       composite   \n",
       "3            101              2004       composite   \n",
       "4            101              2008       composite   \n",
       "\n",
       "                      use_value  \n",
       "0  office / residential / hotel  \n",
       "1                 other / hotel  \n",
       "2                        office  \n",
       "3                        office  \n",
       "4                hotel / office  "
      ]
     },
     "execution_count": 44,
     "metadata": {},
     "output_type": "execute_result"
    }
   ],
   "source": [
    "building_frame.head()"
   ]
  },
  {
   "cell_type": "code",
   "execution_count": 45,
   "metadata": {
    "collapsed": false
   },
   "outputs": [],
   "source": [
    "building_frame.drop('status_label',axis=1, inplace=True)"
   ]
  },
  {
   "cell_type": "code",
   "execution_count": 46,
   "metadata": {
    "collapsed": false
   },
   "outputs": [
    {
     "data": {
      "text/html": [
       "<div>\n",
       "<table border=\"1\" class=\"dataframe\">\n",
       "  <thead>\n",
       "    <tr style=\"text-align: right;\">\n",
       "      <th></th>\n",
       "      <th>number</th>\n",
       "      <th>buildingname_link</th>\n",
       "      <th>buildingname_link/_text</th>\n",
       "      <th>buildingname_link/_title</th>\n",
       "      <th>city_link_1</th>\n",
       "      <th>city_link_1/_text</th>\n",
       "      <th>city_link_1/_title</th>\n",
       "      <th>city_label_1</th>\n",
       "      <th>city_link_2</th>\n",
       "      <th>city_link_2/_text</th>\n",
       "      <th>city_link_2/_title</th>\n",
       "      <th>city_label_2</th>\n",
       "      <th>heightm_number</th>\n",
       "      <th>heightft_number</th>\n",
       "      <th>floors_number</th>\n",
       "      <th>completed_number</th>\n",
       "      <th>material_value</th>\n",
       "      <th>use_value</th>\n",
       "    </tr>\n",
       "  </thead>\n",
       "  <tbody>\n",
       "    <tr>\n",
       "      <th>0</th>\n",
       "      <td>1</td>\n",
       "      <td>http://skyscrapercenter.com/building/burj-khal...</td>\n",
       "      <td>Burj Khalifa</td>\n",
       "      <td>NaN</td>\n",
       "      <td>http://skyscrapercenter.com/city/dubai</td>\n",
       "      <td>Dubai</td>\n",
       "      <td>NaN</td>\n",
       "      <td>(</td>\n",
       "      <td>http://skyscrapercenter.com/country/united-ara...</td>\n",
       "      <td>AE</td>\n",
       "      <td>NaN</td>\n",
       "      <td>)</td>\n",
       "      <td>828.0</td>\n",
       "      <td>2717</td>\n",
       "      <td>163</td>\n",
       "      <td>2010</td>\n",
       "      <td>steel/concrete</td>\n",
       "      <td>office / residential / hotel</td>\n",
       "    </tr>\n",
       "    <tr>\n",
       "      <th>1</th>\n",
       "      <td>2</td>\n",
       "      <td>http://skyscrapercenter.com/building/makkah-ro...</td>\n",
       "      <td>Makkah Royal Clock Tower Hotel</td>\n",
       "      <td>NaN</td>\n",
       "      <td>http://skyscrapercenter.com/city/mecca</td>\n",
       "      <td>Mecca</td>\n",
       "      <td>NaN</td>\n",
       "      <td>(</td>\n",
       "      <td>http://skyscrapercenter.com/country/saudi-arabia</td>\n",
       "      <td>SA</td>\n",
       "      <td>NaN</td>\n",
       "      <td>)</td>\n",
       "      <td>601.0</td>\n",
       "      <td>1972</td>\n",
       "      <td>120</td>\n",
       "      <td>2012</td>\n",
       "      <td>steel/concrete</td>\n",
       "      <td>other / hotel</td>\n",
       "    </tr>\n",
       "    <tr>\n",
       "      <th>2</th>\n",
       "      <td>3</td>\n",
       "      <td>http://skyscrapercenter.com/building/one-world...</td>\n",
       "      <td>One World Trade Center</td>\n",
       "      <td>NaN</td>\n",
       "      <td>http://skyscrapercenter.com/city/new-york-city</td>\n",
       "      <td>New York City</td>\n",
       "      <td>NaN</td>\n",
       "      <td>(</td>\n",
       "      <td>http://skyscrapercenter.com/country/united-states</td>\n",
       "      <td>US</td>\n",
       "      <td>NaN</td>\n",
       "      <td>)</td>\n",
       "      <td>541.3</td>\n",
       "      <td>1776</td>\n",
       "      <td>94</td>\n",
       "      <td>2014</td>\n",
       "      <td>composite</td>\n",
       "      <td>office</td>\n",
       "    </tr>\n",
       "    <tr>\n",
       "      <th>3</th>\n",
       "      <td>4</td>\n",
       "      <td>http://skyscrapercenter.com/building/taipei-10...</td>\n",
       "      <td>TAIPEI 101</td>\n",
       "      <td>NaN</td>\n",
       "      <td>http://skyscrapercenter.com/city/taipei</td>\n",
       "      <td>Taipei</td>\n",
       "      <td>NaN</td>\n",
       "      <td>(</td>\n",
       "      <td>http://skyscrapercenter.com/country/republic-o...</td>\n",
       "      <td>TW</td>\n",
       "      <td>NaN</td>\n",
       "      <td>)</td>\n",
       "      <td>508.0</td>\n",
       "      <td>1667</td>\n",
       "      <td>101</td>\n",
       "      <td>2004</td>\n",
       "      <td>composite</td>\n",
       "      <td>office</td>\n",
       "    </tr>\n",
       "    <tr>\n",
       "      <th>4</th>\n",
       "      <td>5</td>\n",
       "      <td>http://skyscrapercenter.com/building/shanghai-...</td>\n",
       "      <td>Shanghai World Financial Center</td>\n",
       "      <td>NaN</td>\n",
       "      <td>http://skyscrapercenter.com/city/shanghai</td>\n",
       "      <td>Shanghai</td>\n",
       "      <td>NaN</td>\n",
       "      <td>(</td>\n",
       "      <td>http://skyscrapercenter.com/country/china</td>\n",
       "      <td>CN</td>\n",
       "      <td>NaN</td>\n",
       "      <td>)</td>\n",
       "      <td>492.0</td>\n",
       "      <td>1614</td>\n",
       "      <td>101</td>\n",
       "      <td>2008</td>\n",
       "      <td>composite</td>\n",
       "      <td>hotel / office</td>\n",
       "    </tr>\n",
       "  </tbody>\n",
       "</table>\n",
       "</div>"
      ],
      "text/plain": [
       "   number                                  buildingname_link  \\\n",
       "0       1  http://skyscrapercenter.com/building/burj-khal...   \n",
       "1       2  http://skyscrapercenter.com/building/makkah-ro...   \n",
       "2       3  http://skyscrapercenter.com/building/one-world...   \n",
       "3       4  http://skyscrapercenter.com/building/taipei-10...   \n",
       "4       5  http://skyscrapercenter.com/building/shanghai-...   \n",
       "\n",
       "           buildingname_link/_text  buildingname_link/_title  \\\n",
       "0                     Burj Khalifa                       NaN   \n",
       "1   Makkah Royal Clock Tower Hotel                       NaN   \n",
       "2           One World Trade Center                       NaN   \n",
       "3                       TAIPEI 101                       NaN   \n",
       "4  Shanghai World Financial Center                       NaN   \n",
       "\n",
       "                                      city_link_1 city_link_1/_text  \\\n",
       "0          http://skyscrapercenter.com/city/dubai             Dubai   \n",
       "1          http://skyscrapercenter.com/city/mecca             Mecca   \n",
       "2  http://skyscrapercenter.com/city/new-york-city     New York City   \n",
       "3         http://skyscrapercenter.com/city/taipei            Taipei   \n",
       "4       http://skyscrapercenter.com/city/shanghai          Shanghai   \n",
       "\n",
       "   city_link_1/_title city_label_1  \\\n",
       "0                 NaN            (   \n",
       "1                 NaN            (   \n",
       "2                 NaN            (   \n",
       "3                 NaN            (   \n",
       "4                 NaN            (   \n",
       "\n",
       "                                         city_link_2 city_link_2/_text  \\\n",
       "0  http://skyscrapercenter.com/country/united-ara...                AE   \n",
       "1   http://skyscrapercenter.com/country/saudi-arabia                SA   \n",
       "2  http://skyscrapercenter.com/country/united-states                US   \n",
       "3  http://skyscrapercenter.com/country/republic-o...                TW   \n",
       "4          http://skyscrapercenter.com/country/china                CN   \n",
       "\n",
       "   city_link_2/_title city_label_2  heightm_number  heightft_number  \\\n",
       "0                 NaN            )           828.0             2717   \n",
       "1                 NaN            )           601.0             1972   \n",
       "2                 NaN            )           541.3             1776   \n",
       "3                 NaN            )           508.0             1667   \n",
       "4                 NaN            )           492.0             1614   \n",
       "\n",
       "   floors_number  completed_number  material_value  \\\n",
       "0            163              2010  steel/concrete   \n",
       "1            120              2012  steel/concrete   \n",
       "2             94              2014       composite   \n",
       "3            101              2004       composite   \n",
       "4            101              2008       composite   \n",
       "\n",
       "                      use_value  \n",
       "0  office / residential / hotel  \n",
       "1                 other / hotel  \n",
       "2                        office  \n",
       "3                        office  \n",
       "4                hotel / office  "
      ]
     },
     "execution_count": 46,
     "metadata": {},
     "output_type": "execute_result"
    }
   ],
   "source": [
    "building_frame.head()"
   ]
  },
  {
   "cell_type": "code",
   "execution_count": 47,
   "metadata": {
    "collapsed": false
   },
   "outputs": [],
   "source": [
    "building_frame.drop(['number','buildingname_link','buildingname_link/_title','city_link_1','city_link_1/_title',\n",
    "                    'city_label_1', 'city_link_2','city_link_2/_title','city_label_2'],axis=1, inplace=True)"
   ]
  },
  {
   "cell_type": "code",
   "execution_count": 48,
   "metadata": {
    "collapsed": false
   },
   "outputs": [
    {
     "data": {
      "text/html": [
       "<div>\n",
       "<table border=\"1\" class=\"dataframe\">\n",
       "  <thead>\n",
       "    <tr style=\"text-align: right;\">\n",
       "      <th></th>\n",
       "      <th>buildingname_link/_text</th>\n",
       "      <th>city_link_1/_text</th>\n",
       "      <th>city_link_2/_text</th>\n",
       "      <th>heightm_number</th>\n",
       "      <th>heightft_number</th>\n",
       "      <th>floors_number</th>\n",
       "      <th>completed_number</th>\n",
       "      <th>material_value</th>\n",
       "      <th>use_value</th>\n",
       "    </tr>\n",
       "  </thead>\n",
       "  <tbody>\n",
       "    <tr>\n",
       "      <th>0</th>\n",
       "      <td>Burj Khalifa</td>\n",
       "      <td>Dubai</td>\n",
       "      <td>AE</td>\n",
       "      <td>828.0</td>\n",
       "      <td>2717</td>\n",
       "      <td>163</td>\n",
       "      <td>2010</td>\n",
       "      <td>steel/concrete</td>\n",
       "      <td>office / residential / hotel</td>\n",
       "    </tr>\n",
       "    <tr>\n",
       "      <th>1</th>\n",
       "      <td>Makkah Royal Clock Tower Hotel</td>\n",
       "      <td>Mecca</td>\n",
       "      <td>SA</td>\n",
       "      <td>601.0</td>\n",
       "      <td>1972</td>\n",
       "      <td>120</td>\n",
       "      <td>2012</td>\n",
       "      <td>steel/concrete</td>\n",
       "      <td>other / hotel</td>\n",
       "    </tr>\n",
       "    <tr>\n",
       "      <th>2</th>\n",
       "      <td>One World Trade Center</td>\n",
       "      <td>New York City</td>\n",
       "      <td>US</td>\n",
       "      <td>541.3</td>\n",
       "      <td>1776</td>\n",
       "      <td>94</td>\n",
       "      <td>2014</td>\n",
       "      <td>composite</td>\n",
       "      <td>office</td>\n",
       "    </tr>\n",
       "    <tr>\n",
       "      <th>3</th>\n",
       "      <td>TAIPEI 101</td>\n",
       "      <td>Taipei</td>\n",
       "      <td>TW</td>\n",
       "      <td>508.0</td>\n",
       "      <td>1667</td>\n",
       "      <td>101</td>\n",
       "      <td>2004</td>\n",
       "      <td>composite</td>\n",
       "      <td>office</td>\n",
       "    </tr>\n",
       "    <tr>\n",
       "      <th>4</th>\n",
       "      <td>Shanghai World Financial Center</td>\n",
       "      <td>Shanghai</td>\n",
       "      <td>CN</td>\n",
       "      <td>492.0</td>\n",
       "      <td>1614</td>\n",
       "      <td>101</td>\n",
       "      <td>2008</td>\n",
       "      <td>composite</td>\n",
       "      <td>hotel / office</td>\n",
       "    </tr>\n",
       "  </tbody>\n",
       "</table>\n",
       "</div>"
      ],
      "text/plain": [
       "           buildingname_link/_text city_link_1/_text city_link_2/_text  \\\n",
       "0                     Burj Khalifa             Dubai                AE   \n",
       "1   Makkah Royal Clock Tower Hotel             Mecca                SA   \n",
       "2           One World Trade Center     New York City                US   \n",
       "3                       TAIPEI 101            Taipei                TW   \n",
       "4  Shanghai World Financial Center          Shanghai                CN   \n",
       "\n",
       "   heightm_number  heightft_number  floors_number  completed_number  \\\n",
       "0           828.0             2717            163              2010   \n",
       "1           601.0             1972            120              2012   \n",
       "2           541.3             1776             94              2014   \n",
       "3           508.0             1667            101              2004   \n",
       "4           492.0             1614            101              2008   \n",
       "\n",
       "   material_value                     use_value  \n",
       "0  steel/concrete  office / residential / hotel  \n",
       "1  steel/concrete                 other / hotel  \n",
       "2       composite                        office  \n",
       "3       composite                        office  \n",
       "4       composite                hotel / office  "
      ]
     },
     "execution_count": 48,
     "metadata": {},
     "output_type": "execute_result"
    }
   ],
   "source": [
    "building_frame.head()"
   ]
  },
  {
   "cell_type": "code",
   "execution_count": 49,
   "metadata": {
    "collapsed": false
   },
   "outputs": [],
   "source": [
    "building_frame.columns= ['Name','City','Country','Height_m','Height_ft','Floors','Completed','Material','Use']"
   ]
  },
  {
   "cell_type": "code",
   "execution_count": 50,
   "metadata": {
    "collapsed": false
   },
   "outputs": [
    {
     "data": {
      "text/html": [
       "<div>\n",
       "<table border=\"1\" class=\"dataframe\">\n",
       "  <thead>\n",
       "    <tr style=\"text-align: right;\">\n",
       "      <th></th>\n",
       "      <th>Name</th>\n",
       "      <th>City</th>\n",
       "      <th>Country</th>\n",
       "      <th>Height_m</th>\n",
       "      <th>Height_ft</th>\n",
       "      <th>Floors</th>\n",
       "      <th>Completed</th>\n",
       "      <th>Material</th>\n",
       "      <th>Use</th>\n",
       "    </tr>\n",
       "  </thead>\n",
       "  <tbody>\n",
       "    <tr>\n",
       "      <th>0</th>\n",
       "      <td>Burj Khalifa</td>\n",
       "      <td>Dubai</td>\n",
       "      <td>AE</td>\n",
       "      <td>828.0</td>\n",
       "      <td>2717</td>\n",
       "      <td>163</td>\n",
       "      <td>2010</td>\n",
       "      <td>steel/concrete</td>\n",
       "      <td>office / residential / hotel</td>\n",
       "    </tr>\n",
       "    <tr>\n",
       "      <th>1</th>\n",
       "      <td>Makkah Royal Clock Tower Hotel</td>\n",
       "      <td>Mecca</td>\n",
       "      <td>SA</td>\n",
       "      <td>601.0</td>\n",
       "      <td>1972</td>\n",
       "      <td>120</td>\n",
       "      <td>2012</td>\n",
       "      <td>steel/concrete</td>\n",
       "      <td>other / hotel</td>\n",
       "    </tr>\n",
       "    <tr>\n",
       "      <th>2</th>\n",
       "      <td>One World Trade Center</td>\n",
       "      <td>New York City</td>\n",
       "      <td>US</td>\n",
       "      <td>541.3</td>\n",
       "      <td>1776</td>\n",
       "      <td>94</td>\n",
       "      <td>2014</td>\n",
       "      <td>composite</td>\n",
       "      <td>office</td>\n",
       "    </tr>\n",
       "    <tr>\n",
       "      <th>3</th>\n",
       "      <td>TAIPEI 101</td>\n",
       "      <td>Taipei</td>\n",
       "      <td>TW</td>\n",
       "      <td>508.0</td>\n",
       "      <td>1667</td>\n",
       "      <td>101</td>\n",
       "      <td>2004</td>\n",
       "      <td>composite</td>\n",
       "      <td>office</td>\n",
       "    </tr>\n",
       "    <tr>\n",
       "      <th>4</th>\n",
       "      <td>Shanghai World Financial Center</td>\n",
       "      <td>Shanghai</td>\n",
       "      <td>CN</td>\n",
       "      <td>492.0</td>\n",
       "      <td>1614</td>\n",
       "      <td>101</td>\n",
       "      <td>2008</td>\n",
       "      <td>composite</td>\n",
       "      <td>hotel / office</td>\n",
       "    </tr>\n",
       "  </tbody>\n",
       "</table>\n",
       "</div>"
      ],
      "text/plain": [
       "                              Name           City Country  Height_m  \\\n",
       "0                     Burj Khalifa          Dubai      AE     828.0   \n",
       "1   Makkah Royal Clock Tower Hotel          Mecca      SA     601.0   \n",
       "2           One World Trade Center  New York City      US     541.3   \n",
       "3                       TAIPEI 101         Taipei      TW     508.0   \n",
       "4  Shanghai World Financial Center       Shanghai      CN     492.0   \n",
       "\n",
       "   Height_ft  Floors  Completed        Material                           Use  \n",
       "0       2717     163       2010  steel/concrete  office / residential / hotel  \n",
       "1       1972     120       2012  steel/concrete                 other / hotel  \n",
       "2       1776      94       2014       composite                        office  \n",
       "3       1667     101       2004       composite                        office  \n",
       "4       1614     101       2008       composite                hotel / office  "
      ]
     },
     "execution_count": 50,
     "metadata": {},
     "output_type": "execute_result"
    }
   ],
   "source": [
    "building_frame.head()"
   ]
  },
  {
   "cell_type": "code",
   "execution_count": 51,
   "metadata": {
    "collapsed": false
   },
   "outputs": [
    {
     "name": "stdout",
     "output_type": "stream",
     "text": [
      "<class 'pandas.core.frame.DataFrame'>\n",
      "Int64Index: 100 entries, 0 to 99\n",
      "Data columns (total 9 columns):\n",
      "Name         100 non-null object\n",
      "City         100 non-null object\n",
      "Country      100 non-null object\n",
      "Height_m     100 non-null float64\n",
      "Height_ft    100 non-null int64\n",
      "Floors       100 non-null int64\n",
      "Completed    100 non-null int64\n",
      "Material     100 non-null object\n",
      "Use          100 non-null object\n",
      "dtypes: float64(1), int64(3), object(5)\n",
      "memory usage: 7.8+ KB\n"
     ]
    }
   ],
   "source": [
    "building_frame.info()"
   ]
  },
  {
   "cell_type": "code",
   "execution_count": 52,
   "metadata": {
    "collapsed": true
   },
   "outputs": [],
   "source": [
    "import seaborn as sns\n",
    "sns.set_style('whitegrid')\n",
    "%matplotlib inline\n",
    "\n",
    "from __future__ import division"
   ]
  },
  {
   "cell_type": "code",
   "execution_count": 53,
   "metadata": {
    "collapsed": false
   },
   "outputs": [
    {
     "data": {
      "text/plain": [
       "<seaborn.axisgrid.FacetGrid at 0x7f5eeee35c50>"
      ]
     },
     "execution_count": 53,
     "metadata": {},
     "output_type": "execute_result"
    },
    {
     "data": {
      "image/png": "[encoded data removed]",
      "text/plain": [
       "<matplotlib.figure.Figure at 0x7f5ee5d61b10>"
      ]
     },
     "metadata": {},
     "output_type": "display_data"
    }
   ],
   "source": [
    "sns.factorplot('Country',data=building_frame,kind='count',size=7)\n",
    "# Which country has the highest number of tall buildings in top 100?\n",
    "# Ans: China"
   ]
  },
  {
   "cell_type": "code",
   "execution_count": 54,
   "metadata": {
    "collapsed": false
   },
   "outputs": [
    {
     "data": {
      "text/html": [
       "<div>\n",
       "<table border=\"1\" class=\"dataframe\">\n",
       "  <thead>\n",
       "    <tr style=\"text-align: right;\">\n",
       "      <th></th>\n",
       "      <th>Height_m</th>\n",
       "      <th>Height_ft</th>\n",
       "      <th>Floors</th>\n",
       "      <th>Completed</th>\n",
       "    </tr>\n",
       "  </thead>\n",
       "  <tbody>\n",
       "    <tr>\n",
       "      <th>count</th>\n",
       "      <td>100.000000</td>\n",
       "      <td>100.00000</td>\n",
       "      <td>100.000000</td>\n",
       "      <td>100.000000</td>\n",
       "    </tr>\n",
       "    <tr>\n",
       "      <th>mean</th>\n",
       "      <td>352.331000</td>\n",
       "      <td>1155.94000</td>\n",
       "      <td>75.800000</td>\n",
       "      <td>2004.740000</td>\n",
       "    </tr>\n",
       "    <tr>\n",
       "      <th>std</th>\n",
       "      <td>75.997521</td>\n",
       "      <td>249.40725</td>\n",
       "      <td>17.118128</td>\n",
       "      <td>14.826008</td>\n",
       "    </tr>\n",
       "    <tr>\n",
       "      <th>min</th>\n",
       "      <td>298.000000</td>\n",
       "      <td>978.00000</td>\n",
       "      <td>36.000000</td>\n",
       "      <td>1930.000000</td>\n",
       "    </tr>\n",
       "    <tr>\n",
       "      <th>25%</th>\n",
       "      <td>306.000000</td>\n",
       "      <td>1004.00000</td>\n",
       "      <td>66.750000</td>\n",
       "      <td>2000.750000</td>\n",
       "    </tr>\n",
       "    <tr>\n",
       "      <th>50%</th>\n",
       "      <td>327.000000</td>\n",
       "      <td>1073.00000</td>\n",
       "      <td>73.000000</td>\n",
       "      <td>2010.000000</td>\n",
       "    </tr>\n",
       "    <tr>\n",
       "      <th>75%</th>\n",
       "      <td>366.200000</td>\n",
       "      <td>1201.25000</td>\n",
       "      <td>83.500000</td>\n",
       "      <td>2013.000000</td>\n",
       "    </tr>\n",
       "    <tr>\n",
       "      <th>max</th>\n",
       "      <td>828.000000</td>\n",
       "      <td>2717.00000</td>\n",
       "      <td>163.000000</td>\n",
       "      <td>2015.000000</td>\n",
       "    </tr>\n",
       "  </tbody>\n",
       "</table>\n",
       "</div>"
      ],
      "text/plain": [
       "         Height_m   Height_ft      Floors    Completed\n",
       "count  100.000000   100.00000  100.000000   100.000000\n",
       "mean   352.331000  1155.94000   75.800000  2004.740000\n",
       "std     75.997521   249.40725   17.118128    14.826008\n",
       "min    298.000000   978.00000   36.000000  1930.000000\n",
       "25%    306.000000  1004.00000   66.750000  2000.750000\n",
       "50%    327.000000  1073.00000   73.000000  2010.000000\n",
       "75%    366.200000  1201.25000   83.500000  2013.000000\n",
       "max    828.000000  2717.00000  163.000000  2015.000000"
      ]
     },
     "execution_count": 54,
     "metadata": {},
     "output_type": "execute_result"
    }
   ],
   "source": [
    "building_frame.describe()"
   ]
  },
  {
   "cell_type": "code",
   "execution_count": 55,
   "metadata": {
    "collapsed": false
   },
   "outputs": [
    {
     "data": {
      "text/html": [
       "<div>\n",
       "<table border=\"1\" class=\"dataframe\">\n",
       "  <thead>\n",
       "    <tr style=\"text-align: right;\">\n",
       "      <th></th>\n",
       "      <th>Name</th>\n",
       "      <th>City</th>\n",
       "      <th>Country</th>\n",
       "      <th>Height_m</th>\n",
       "      <th>Height_ft</th>\n",
       "      <th>Floors</th>\n",
       "      <th>Completed</th>\n",
       "      <th>Material</th>\n",
       "      <th>Use</th>\n",
       "    </tr>\n",
       "  </thead>\n",
       "  <tbody>\n",
       "    <tr>\n",
       "      <th>99</th>\n",
       "      <td>Ilham Baru Tower</td>\n",
       "      <td>Kuala Lumpur</td>\n",
       "      <td>MY</td>\n",
       "      <td>298</td>\n",
       "      <td>978</td>\n",
       "      <td>64</td>\n",
       "      <td>2015</td>\n",
       "      <td>concrete</td>\n",
       "      <td>residential / office</td>\n",
       "    </tr>\n",
       "  </tbody>\n",
       "</table>\n",
       "</div>"
      ],
      "text/plain": [
       "                Name          City Country  Height_m  Height_ft  Floors  \\\n",
       "99  Ilham Baru Tower  Kuala Lumpur      MY       298        978      64   \n",
       "\n",
       "    Completed  Material                   Use  \n",
       "99       2015  concrete  residential / office  "
      ]
     },
     "execution_count": 55,
     "metadata": {},
     "output_type": "execute_result"
    }
   ],
   "source": [
    "building_frame[building_frame.Height_m == 298]\n",
    "# the 100th tallest building"
   ]
  },
  {
   "cell_type": "code",
   "execution_count": 56,
   "metadata": {
    "collapsed": false
   },
   "outputs": [
    {
     "data": {
      "text/html": [
       "<div>\n",
       "<table border=\"1\" class=\"dataframe\">\n",
       "  <thead>\n",
       "    <tr style=\"text-align: right;\">\n",
       "      <th></th>\n",
       "      <th>Name</th>\n",
       "      <th>City</th>\n",
       "      <th>Country</th>\n",
       "      <th>Height_m</th>\n",
       "      <th>Height_ft</th>\n",
       "      <th>Floors</th>\n",
       "      <th>Completed</th>\n",
       "      <th>Material</th>\n",
       "      <th>Use</th>\n",
       "    </tr>\n",
       "  </thead>\n",
       "  <tbody>\n",
       "    <tr>\n",
       "      <th>0</th>\n",
       "      <td>Burj Khalifa</td>\n",
       "      <td>Dubai</td>\n",
       "      <td>AE</td>\n",
       "      <td>828</td>\n",
       "      <td>2717</td>\n",
       "      <td>163</td>\n",
       "      <td>2010</td>\n",
       "      <td>steel/concrete</td>\n",
       "      <td>office / residential / hotel</td>\n",
       "    </tr>\n",
       "  </tbody>\n",
       "</table>\n",
       "</div>"
      ],
      "text/plain": [
       "           Name   City Country  Height_m  Height_ft  Floors  Completed  \\\n",
       "0  Burj Khalifa  Dubai      AE       828       2717     163       2010   \n",
       "\n",
       "         Material                           Use  \n",
       "0  steel/concrete  office / residential / hotel  "
      ]
     },
     "execution_count": 56,
     "metadata": {},
     "output_type": "execute_result"
    }
   ],
   "source": [
    "building_frame[building_frame.Height_m == 828]\n",
    "# the 1st tallest building"
   ]
  },
  {
   "cell_type": "code",
   "execution_count": 57,
   "metadata": {
    "collapsed": false
   },
   "outputs": [
    {
     "data": {
      "text/plain": [
       "Name             Ilham Baru Tower\n",
       "City                 Kuala Lumpur\n",
       "Country                        MY\n",
       "Height_m                      298\n",
       "Height_ft                     978\n",
       "Floors                         64\n",
       "Completed                    2015\n",
       "Material                 concrete\n",
       "Use          residential / office\n",
       "Name: 99, dtype: object"
      ]
     },
     "execution_count": 57,
     "metadata": {},
     "output_type": "execute_result"
    }
   ],
   "source": [
    "building_frame.ix[99]\n",
    "# the 100th tallest building (since it is sorted by length, we could have just taken the row with the last index)"
   ]
  },
  {
   "cell_type": "code",
   "execution_count": 58,
   "metadata": {
    "collapsed": false
   },
   "outputs": [
    {
     "data": {
      "text/plain": [
       "<seaborn.axisgrid.FacetGrid at 0x7f5ee5890e90>"
      ]
     },
     "execution_count": 58,
     "metadata": {},
     "output_type": "execute_result"
    },
    {
     "data": {
      "image/png": "[encoded data removed]",
      "text/plain": [
       "<matplotlib.figure.Figure at 0x7f5ee5877490>"
      ]
     },
     "metadata": {},
     "output_type": "display_data"
    }
   ],
   "source": [
    "city = sns.factorplot('City',data=building_frame,kind='count',aspect=3)\n",
    "city.set_xticklabels(rotation=60)\n",
    "# Which city has the largest number of world's tallest buildings?\n",
    "# Ans : Dubai"
   ]
  },
  {
   "cell_type": "code",
   "execution_count": 59,
   "metadata": {
    "collapsed": true
   },
   "outputs": [],
   "source": [
    "china_df = building_frame[building_frame.Country=='CN']"
   ]
  },
  {
   "cell_type": "code",
   "execution_count": 60,
   "metadata": {
    "collapsed": false
   },
   "outputs": [
    {
     "data": {
      "text/html": [
       "<div>\n",
       "<table border=\"1\" class=\"dataframe\">\n",
       "  <thead>\n",
       "    <tr style=\"text-align: right;\">\n",
       "      <th></th>\n",
       "      <th>Name</th>\n",
       "      <th>City</th>\n",
       "      <th>Country</th>\n",
       "      <th>Height_m</th>\n",
       "      <th>Height_ft</th>\n",
       "      <th>Floors</th>\n",
       "      <th>Completed</th>\n",
       "      <th>Material</th>\n",
       "      <th>Use</th>\n",
       "    </tr>\n",
       "  </thead>\n",
       "  <tbody>\n",
       "    <tr>\n",
       "      <th>4</th>\n",
       "      <td>Shanghai World Financial Center</td>\n",
       "      <td>Shanghai</td>\n",
       "      <td>CN</td>\n",
       "      <td>492.0</td>\n",
       "      <td>1614</td>\n",
       "      <td>101</td>\n",
       "      <td>2008</td>\n",
       "      <td>composite</td>\n",
       "      <td>hotel / office</td>\n",
       "    </tr>\n",
       "    <tr>\n",
       "      <th>5</th>\n",
       "      <td>International Commerce Centre</td>\n",
       "      <td>Hong Kong</td>\n",
       "      <td>CN</td>\n",
       "      <td>484.0</td>\n",
       "      <td>1588</td>\n",
       "      <td>108</td>\n",
       "      <td>2010</td>\n",
       "      <td>composite</td>\n",
       "      <td>hotel / office</td>\n",
       "    </tr>\n",
       "    <tr>\n",
       "      <th>8</th>\n",
       "      <td>Zifeng Tower</td>\n",
       "      <td>Nanjing</td>\n",
       "      <td>CN</td>\n",
       "      <td>450.0</td>\n",
       "      <td>1476</td>\n",
       "      <td>66</td>\n",
       "      <td>2010</td>\n",
       "      <td>composite</td>\n",
       "      <td>hotel / office</td>\n",
       "    </tr>\n",
       "    <tr>\n",
       "      <th>10</th>\n",
       "      <td>KK100</td>\n",
       "      <td>Shenzhen</td>\n",
       "      <td>CN</td>\n",
       "      <td>441.8</td>\n",
       "      <td>1449</td>\n",
       "      <td>100</td>\n",
       "      <td>2011</td>\n",
       "      <td>composite</td>\n",
       "      <td>hotel / office</td>\n",
       "    </tr>\n",
       "    <tr>\n",
       "      <th>11</th>\n",
       "      <td>Guangzhou International Finance Center</td>\n",
       "      <td>Guangzhou</td>\n",
       "      <td>CN</td>\n",
       "      <td>438.6</td>\n",
       "      <td>1439</td>\n",
       "      <td>103</td>\n",
       "      <td>2010</td>\n",
       "      <td>composite</td>\n",
       "      <td>hotel / office</td>\n",
       "    </tr>\n",
       "  </tbody>\n",
       "</table>\n",
       "</div>"
      ],
      "text/plain": [
       "                                      Name       City Country  Height_m  \\\n",
       "4          Shanghai World Financial Center   Shanghai      CN     492.0   \n",
       "5            International Commerce Centre  Hong Kong      CN     484.0   \n",
       "8                             Zifeng Tower    Nanjing      CN     450.0   \n",
       "10                                   KK100   Shenzhen      CN     441.8   \n",
       "11  Guangzhou International Finance Center  Guangzhou      CN     438.6   \n",
       "\n",
       "    Height_ft  Floors  Completed   Material             Use  \n",
       "4        1614     101       2008  composite  hotel / office  \n",
       "5        1588     108       2010  composite  hotel / office  \n",
       "8        1476      66       2010  composite  hotel / office  \n",
       "10       1449     100       2011  composite  hotel / office  \n",
       "11       1439     103       2010  composite  hotel / office  "
      ]
     },
     "execution_count": 60,
     "metadata": {},
     "output_type": "execute_result"
    }
   ],
   "source": [
    "china_df.head()"
   ]
  },
  {
   "cell_type": "code",
   "execution_count": 61,
   "metadata": {
    "collapsed": false
   },
   "outputs": [
    {
     "data": {
      "text/plain": [
       "<seaborn.axisgrid.FacetGrid at 0x7f5eeee35410>"
      ]
     },
     "execution_count": 61,
     "metadata": {},
     "output_type": "execute_result"
    },
    {
     "data": {
      "image/png": "[encoded data removed]",
      "text/plain": [
       "<matplotlib.figure.Figure at 0x7f5eeedfaad0>"
      ]
     },
     "metadata": {},
     "output_type": "display_data"
    }
   ],
   "source": [
    "sns.factorplot('City',data=china_df, kind='count',aspect=3)\n",
    "# Which city in China has the largest number of tall buildings? (Since we see that China has the largest\n",
    "# number of tall buildings, but Dubai wins in cities)\n",
    "# Ans: Hong Kong"
   ]
  },
  {
   "cell_type": "code",
   "execution_count": 62,
   "metadata": {
    "collapsed": false
   },
   "outputs": [],
   "source": [
    "top10_df = building_frame.head(10)"
   ]
  },
  {
   "cell_type": "code",
   "execution_count": 63,
   "metadata": {
    "collapsed": false
   },
   "outputs": [
    {
     "data": {
      "text/html": [
       "<div>\n",
       "<table border=\"1\" class=\"dataframe\">\n",
       "  <thead>\n",
       "    <tr style=\"text-align: right;\">\n",
       "      <th></th>\n",
       "      <th>Name</th>\n",
       "      <th>City</th>\n",
       "      <th>Country</th>\n",
       "      <th>Height_m</th>\n",
       "      <th>Height_ft</th>\n",
       "      <th>Floors</th>\n",
       "      <th>Completed</th>\n",
       "      <th>Material</th>\n",
       "      <th>Use</th>\n",
       "    </tr>\n",
       "  </thead>\n",
       "  <tbody>\n",
       "    <tr>\n",
       "      <th>0</th>\n",
       "      <td>Burj Khalifa</td>\n",
       "      <td>Dubai</td>\n",
       "      <td>AE</td>\n",
       "      <td>828.0</td>\n",
       "      <td>2717</td>\n",
       "      <td>163</td>\n",
       "      <td>2010</td>\n",
       "      <td>steel/concrete</td>\n",
       "      <td>office / residential / hotel</td>\n",
       "    </tr>\n",
       "    <tr>\n",
       "      <th>1</th>\n",
       "      <td>Makkah Royal Clock Tower Hotel</td>\n",
       "      <td>Mecca</td>\n",
       "      <td>SA</td>\n",
       "      <td>601.0</td>\n",
       "      <td>1972</td>\n",
       "      <td>120</td>\n",
       "      <td>2012</td>\n",
       "      <td>steel/concrete</td>\n",
       "      <td>other / hotel</td>\n",
       "    </tr>\n",
       "    <tr>\n",
       "      <th>2</th>\n",
       "      <td>One World Trade Center</td>\n",
       "      <td>New York City</td>\n",
       "      <td>US</td>\n",
       "      <td>541.3</td>\n",
       "      <td>1776</td>\n",
       "      <td>94</td>\n",
       "      <td>2014</td>\n",
       "      <td>composite</td>\n",
       "      <td>office</td>\n",
       "    </tr>\n",
       "    <tr>\n",
       "      <th>3</th>\n",
       "      <td>TAIPEI 101</td>\n",
       "      <td>Taipei</td>\n",
       "      <td>TW</td>\n",
       "      <td>508.0</td>\n",
       "      <td>1667</td>\n",
       "      <td>101</td>\n",
       "      <td>2004</td>\n",
       "      <td>composite</td>\n",
       "      <td>office</td>\n",
       "    </tr>\n",
       "    <tr>\n",
       "      <th>4</th>\n",
       "      <td>Shanghai World Financial Center</td>\n",
       "      <td>Shanghai</td>\n",
       "      <td>CN</td>\n",
       "      <td>492.0</td>\n",
       "      <td>1614</td>\n",
       "      <td>101</td>\n",
       "      <td>2008</td>\n",
       "      <td>composite</td>\n",
       "      <td>hotel / office</td>\n",
       "    </tr>\n",
       "    <tr>\n",
       "      <th>5</th>\n",
       "      <td>International Commerce Centre</td>\n",
       "      <td>Hong Kong</td>\n",
       "      <td>CN</td>\n",
       "      <td>484.0</td>\n",
       "      <td>1588</td>\n",
       "      <td>108</td>\n",
       "      <td>2010</td>\n",
       "      <td>composite</td>\n",
       "      <td>hotel / office</td>\n",
       "    </tr>\n",
       "    <tr>\n",
       "      <th>6</th>\n",
       "      <td>Petronas Twin Tower 1</td>\n",
       "      <td>Kuala Lumpur</td>\n",
       "      <td>MY</td>\n",
       "      <td>451.9</td>\n",
       "      <td>1483</td>\n",
       "      <td>88</td>\n",
       "      <td>1998</td>\n",
       "      <td>composite</td>\n",
       "      <td>office</td>\n",
       "    </tr>\n",
       "    <tr>\n",
       "      <th>7</th>\n",
       "      <td>Petronas Twin Tower 2</td>\n",
       "      <td>Kuala Lumpur</td>\n",
       "      <td>MY</td>\n",
       "      <td>451.9</td>\n",
       "      <td>1483</td>\n",
       "      <td>88</td>\n",
       "      <td>1998</td>\n",
       "      <td>composite</td>\n",
       "      <td>office</td>\n",
       "    </tr>\n",
       "    <tr>\n",
       "      <th>8</th>\n",
       "      <td>Zifeng Tower</td>\n",
       "      <td>Nanjing</td>\n",
       "      <td>CN</td>\n",
       "      <td>450.0</td>\n",
       "      <td>1476</td>\n",
       "      <td>66</td>\n",
       "      <td>2010</td>\n",
       "      <td>composite</td>\n",
       "      <td>hotel / office</td>\n",
       "    </tr>\n",
       "    <tr>\n",
       "      <th>9</th>\n",
       "      <td>Willis Tower</td>\n",
       "      <td>Chicago</td>\n",
       "      <td>US</td>\n",
       "      <td>442.1</td>\n",
       "      <td>1451</td>\n",
       "      <td>108</td>\n",
       "      <td>1974</td>\n",
       "      <td>steel</td>\n",
       "      <td>office</td>\n",
       "    </tr>\n",
       "  </tbody>\n",
       "</table>\n",
       "</div>"
      ],
      "text/plain": [
       "                              Name           City Country  Height_m  \\\n",
       "0                     Burj Khalifa          Dubai      AE     828.0   \n",
       "1   Makkah Royal Clock Tower Hotel          Mecca      SA     601.0   \n",
       "2           One World Trade Center  New York City      US     541.3   \n",
       "3                       TAIPEI 101         Taipei      TW     508.0   \n",
       "4  Shanghai World Financial Center       Shanghai      CN     492.0   \n",
       "5    International Commerce Centre      Hong Kong      CN     484.0   \n",
       "6            Petronas Twin Tower 1   Kuala Lumpur      MY     451.9   \n",
       "7            Petronas Twin Tower 2   Kuala Lumpur      MY     451.9   \n",
       "8                     Zifeng Tower        Nanjing      CN     450.0   \n",
       "9                     Willis Tower        Chicago      US     442.1   \n",
       "\n",
       "   Height_ft  Floors  Completed        Material                           Use  \n",
       "0       2717     163       2010  steel/concrete  office / residential / hotel  \n",
       "1       1972     120       2012  steel/concrete                 other / hotel  \n",
       "2       1776      94       2014       composite                        office  \n",
       "3       1667     101       2004       composite                        office  \n",
       "4       1614     101       2008       composite                hotel / office  \n",
       "5       1588     108       2010       composite                hotel / office  \n",
       "6       1483      88       1998       composite                        office  \n",
       "7       1483      88       1998       composite                        office  \n",
       "8       1476      66       2010       composite                hotel / office  \n",
       "9       1451     108       1974           steel                        office  "
      ]
     },
     "execution_count": 63,
     "metadata": {},
     "output_type": "execute_result"
    }
   ],
   "source": [
    "top10_df\n",
    "# top 10 tallest buildings"
   ]
  },
  {
   "cell_type": "code",
   "execution_count": 64,
   "metadata": {
    "collapsed": false
   },
   "outputs": [
    {
     "data": {
      "text/plain": [
       "<matplotlib.axes._subplots.AxesSubplot at 0x7f5ee1bb1bd0>"
      ]
     },
     "execution_count": 64,
     "metadata": {},
     "output_type": "execute_result"
    },
    {
     "data": {
      "image/png": "[encoded data removed]",
      "text/plain": [
       "<matplotlib.figure.Figure at 0x7f5ee1df7810>"
      ]
     },
     "metadata": {},
     "output_type": "display_data"
    }
   ],
   "source": [
    "top10_df.plot('Name','Height_m',kind='bar')\n",
    "# top 10 tallest buildings"
   ]
  },
  {
   "cell_type": "code",
   "execution_count": 65,
   "metadata": {
    "collapsed": false
   },
   "outputs": [
    {
     "data": {
      "text/plain": [
       "<seaborn.axisgrid.FacetGrid at 0x7f5ee1c7f090>"
      ]
     },
     "execution_count": 65,
     "metadata": {},
     "output_type": "execute_result"
    },
    {
     "data": {
      "image/png": "[encoded data removed]",
      "text/plain": [
       "<matplotlib.figure.Figure at 0x7f5ee1bc4cd0>"
      ]
     },
     "metadata": {},
     "output_type": "display_data"
    }
   ],
   "source": [
    "sns.factorplot('Country',data=top10_df,kind='count')\n",
    "# Out of the top 10 buildings, 3 falls in CN, 2 in US and 2 in Malaysia."
   ]
  },
  {
   "cell_type": "code",
   "execution_count": 66,
   "metadata": {
    "collapsed": false
   },
   "outputs": [
    {
     "data": {
      "text/plain": [
       "<seaborn.axisgrid.FacetGrid at 0x7f5ee5890890>"
      ]
     },
     "execution_count": 66,
     "metadata": {},
     "output_type": "execute_result"
    },
    {
     "data": {
      "image/png": "[encoded data removed]",
      "text/plain": [
       "<matplotlib.figure.Figure at 0x7f5ee197bf90>"
      ]
     },
     "metadata": {},
     "output_type": "display_data"
    }
   ],
   "source": [
    "# Now, let us look at their height.\n",
    "sns.factorplot('Height_m',data=top10_df,hue='Country',kind='count')\n",
    "# Both of the towers in Malaysia have the same height. CN has three towers of height 492,484, and 450 m\n",
    "#and US has two towers of 541.3 and 442.1 m"
   ]
  },
  {
   "cell_type": "code",
   "execution_count": 67,
   "metadata": {
    "collapsed": false
   },
   "outputs": [
    {
     "data": {
      "text/plain": [
       "<seaborn.axisgrid.FacetGrid at 0x7f5ee1c50790>"
      ]
     },
     "execution_count": 67,
     "metadata": {},
     "output_type": "execute_result"
    },
    {
     "name": "stderr",
     "output_type": "stream",
     "text": [
      "/home/conf/anaconda/lib/python2.7/site-packages/matplotlib/collections.py:590: FutureWarning: elementwise comparison failed; returning scalar instead, but in the future will perform elementwise comparison\n",
      "  if self._edgecolors == str('face'):\n"
     ]
    },
    {
     "data": {
      "image/png": "[encoded data removed]",
      "text/plain": [
       "<matplotlib.figure.Figure at 0x7f5ee17e4550>"
      ]
     },
     "metadata": {},
     "output_type": "display_data"
    }
   ],
   "source": [
    "\n",
    "sns.factorplot('Country','Height_m',data=top10_df)"
   ]
  },
  {
   "cell_type": "code",
   "execution_count": 68,
   "metadata": {
    "collapsed": false
   },
   "outputs": [
    {
     "data": {
      "text/plain": [
       "<seaborn.axisgrid.FacetGrid at 0x7f5ee1c3bf50>"
      ]
     },
     "execution_count": 68,
     "metadata": {},
     "output_type": "execute_result"
    },
    {
     "data": {
      "image/png": "[encoded data removed]",
      "text/plain": [
       "<matplotlib.figure.Figure at 0x7f5ee16b3f90>"
      ]
     },
     "metadata": {},
     "output_type": "display_data"
    }
   ],
   "source": [
    "sns.factorplot('City',data=top10_df,kind='count',aspect=3)\n",
    "# Top 10 towers, 1 in each city, except for Kuala Lampur which is a twin tower."
   ]
  },
  {
   "cell_type": "code",
   "execution_count": 69,
   "metadata": {
    "collapsed": true
   },
   "outputs": [],
   "source": [
    "# Now, lets bin all the buildings by the time when they were made.\n",
    "years = np.array(building_frame.Completed)"
   ]
  },
  {
   "cell_type": "code",
   "execution_count": 70,
   "metadata": {
    "collapsed": false
   },
   "outputs": [
    {
     "data": {
      "text/plain": [
       "array([2010, 2012, 2014, 2004, 2008, 2010, 1998, 1998, 2010, 1974, 2011,\n",
       "       2010, 2009, 1999, 2012, 2011, 2003, 2012, 1996, 1996, 2014, 1931,\n",
       "       2012, 1992, 1990, 2009, 2008, 2012, 2013, 2000, 2015, 2011, 2012,\n",
       "       1997, 1973, 1998, 1969, 2015, 2014, 2015, 2013, 2011, 2006, 2007,\n",
       "       2008, 2010, 2012, 2011, 2013, 2014, 2010, 2013, 2013, 2005, 2011,\n",
       "       1999, 2006, 1930, 2007, 2010, 2015, 1992, 2014, 1990, 2010, 2001,\n",
       "       2015, 2013, 2000, 2015, 2014, 1989, 2013, 2014, 2013, 2013, 1982,\n",
       "       2011, 2011, 1997, 2014, 1990, 2015, 2015, 2015, 2014, 2012, 1983,\n",
       "       2002, 2008, 2010, 2015, 2011, 2014, 2014, 2009, 2007, 1975, 2008,\n",
       "       2015])"
      ]
     },
     "execution_count": 70,
     "metadata": {},
     "output_type": "execute_result"
    }
   ],
   "source": [
    "years"
   ]
  },
  {
   "cell_type": "code",
   "execution_count": 71,
   "metadata": {
    "collapsed": false
   },
   "outputs": [],
   "source": [
    "decades = [1930,1970,1980,1990,2000,2010,2020]"
   ]
  },
  {
   "cell_type": "code",
   "execution_count": 72,
   "metadata": {
    "collapsed": false
   },
   "outputs": [],
   "source": [
    "binned = pd.cut(years,decades)"
   ]
  },
  {
   "cell_type": "code",
   "execution_count": 73,
   "metadata": {
    "collapsed": false
   },
   "outputs": [
    {
     "data": {
      "text/plain": [
       "[(2000, 2010], (2010, 2020], (2010, 2020], (2000, 2010], (2000, 2010], ..., (2000, 2010], (2000, 2010], (1970, 1980], (2000, 2010], (2010, 2020]]\n",
       "Length: 100\n",
       "Categories (6, object): [(1930, 1970] < (1970, 1980] < (1980, 1990] < (1990, 2000] < (2000, 2010] < (2010, 2020]]"
      ]
     },
     "execution_count": 73,
     "metadata": {},
     "output_type": "execute_result"
    }
   ],
   "source": [
    "binned"
   ]
  },
  {
   "cell_type": "code",
   "execution_count": 74,
   "metadata": {
    "collapsed": false
   },
   "outputs": [
    {
     "data": {
      "text/plain": [
       "Index([u'(1930, 1970]', u'(1970, 1980]', u'(1980, 1990]', u'(1990, 2000]',\n",
       "       u'(2000, 2010]', u'(2010, 2020]'],\n",
       "      dtype='object')"
      ]
     },
     "execution_count": 74,
     "metadata": {},
     "output_type": "execute_result"
    }
   ],
   "source": [
    "binned.categories"
   ]
  },
  {
   "cell_type": "code",
   "execution_count": 75,
   "metadata": {
    "collapsed": false
   },
   "outputs": [
    {
     "data": {
      "text/plain": [
       "(2010, 2020]    48\n",
       "(2000, 2010]    27\n",
       "(1990, 2000]    13\n",
       "(1980, 1990]     6\n",
       "(1970, 1980]     3\n",
       "(1930, 1970]     2\n",
       "dtype: int64"
      ]
     },
     "execution_count": 75,
     "metadata": {},
     "output_type": "execute_result"
    }
   ],
   "source": [
    "pd.value_counts(binned)\n",
    "# so we see more buildings were made in 2010-2020. Now lets plot it."
   ]
  },
  {
   "cell_type": "code",
   "execution_count": 76,
   "metadata": {
    "collapsed": false
   },
   "outputs": [],
   "source": [
    "building_frame['decade'] = pd.cut(building_frame.Completed,decades)"
   ]
  },
  {
   "cell_type": "code",
   "execution_count": 77,
   "metadata": {
    "collapsed": false
   },
   "outputs": [
    {
     "data": {
      "text/html": [
       "<div>\n",
       "<table border=\"1\" class=\"dataframe\">\n",
       "  <thead>\n",
       "    <tr style=\"text-align: right;\">\n",
       "      <th></th>\n",
       "      <th>Name</th>\n",
       "      <th>City</th>\n",
       "      <th>Country</th>\n",
       "      <th>Height_m</th>\n",
       "      <th>Height_ft</th>\n",
       "      <th>Floors</th>\n",
       "      <th>Completed</th>\n",
       "      <th>Material</th>\n",
       "      <th>Use</th>\n",
       "      <th>decade</th>\n",
       "    </tr>\n",
       "  </thead>\n",
       "  <tbody>\n",
       "    <tr>\n",
       "      <th>0</th>\n",
       "      <td>Burj Khalifa</td>\n",
       "      <td>Dubai</td>\n",
       "      <td>AE</td>\n",
       "      <td>828.0</td>\n",
       "      <td>2717</td>\n",
       "      <td>163</td>\n",
       "      <td>2010</td>\n",
       "      <td>steel/concrete</td>\n",
       "      <td>office / residential / hotel</td>\n",
       "      <td>(2000, 2010]</td>\n",
       "    </tr>\n",
       "    <tr>\n",
       "      <th>1</th>\n",
       "      <td>Makkah Royal Clock Tower Hotel</td>\n",
       "      <td>Mecca</td>\n",
       "      <td>SA</td>\n",
       "      <td>601.0</td>\n",
       "      <td>1972</td>\n",
       "      <td>120</td>\n",
       "      <td>2012</td>\n",
       "      <td>steel/concrete</td>\n",
       "      <td>other / hotel</td>\n",
       "      <td>(2010, 2020]</td>\n",
       "    </tr>\n",
       "    <tr>\n",
       "      <th>2</th>\n",
       "      <td>One World Trade Center</td>\n",
       "      <td>New York City</td>\n",
       "      <td>US</td>\n",
       "      <td>541.3</td>\n",
       "      <td>1776</td>\n",
       "      <td>94</td>\n",
       "      <td>2014</td>\n",
       "      <td>composite</td>\n",
       "      <td>office</td>\n",
       "      <td>(2010, 2020]</td>\n",
       "    </tr>\n",
       "    <tr>\n",
       "      <th>3</th>\n",
       "      <td>TAIPEI 101</td>\n",
       "      <td>Taipei</td>\n",
       "      <td>TW</td>\n",
       "      <td>508.0</td>\n",
       "      <td>1667</td>\n",
       "      <td>101</td>\n",
       "      <td>2004</td>\n",
       "      <td>composite</td>\n",
       "      <td>office</td>\n",
       "      <td>(2000, 2010]</td>\n",
       "    </tr>\n",
       "    <tr>\n",
       "      <th>4</th>\n",
       "      <td>Shanghai World Financial Center</td>\n",
       "      <td>Shanghai</td>\n",
       "      <td>CN</td>\n",
       "      <td>492.0</td>\n",
       "      <td>1614</td>\n",
       "      <td>101</td>\n",
       "      <td>2008</td>\n",
       "      <td>composite</td>\n",
       "      <td>hotel / office</td>\n",
       "      <td>(2000, 2010]</td>\n",
       "    </tr>\n",
       "  </tbody>\n",
       "</table>\n",
       "</div>"
      ],
      "text/plain": [
       "                              Name           City Country  Height_m  \\\n",
       "0                     Burj Khalifa          Dubai      AE     828.0   \n",
       "1   Makkah Royal Clock Tower Hotel          Mecca      SA     601.0   \n",
       "2           One World Trade Center  New York City      US     541.3   \n",
       "3                       TAIPEI 101         Taipei      TW     508.0   \n",
       "4  Shanghai World Financial Center       Shanghai      CN     492.0   \n",
       "\n",
       "   Height_ft  Floors  Completed        Material                           Use  \\\n",
       "0       2717     163       2010  steel/concrete  office / residential / hotel   \n",
       "1       1972     120       2012  steel/concrete                 other / hotel   \n",
       "2       1776      94       2014       composite                        office   \n",
       "3       1667     101       2004       composite                        office   \n",
       "4       1614     101       2008       composite                hotel / office   \n",
       "\n",
       "         decade  \n",
       "0  (2000, 2010]  \n",
       "1  (2010, 2020]  \n",
       "2  (2010, 2020]  \n",
       "3  (2000, 2010]  \n",
       "4  (2000, 2010]  "
      ]
     },
     "execution_count": 77,
     "metadata": {},
     "output_type": "execute_result"
    }
   ],
   "source": [
    "building_frame.head()"
   ]
  },
  {
   "cell_type": "code",
   "execution_count": null,
   "metadata": {
    "collapsed": false
   },
   "outputs": [],
   "source": []
  },
  {
   "cell_type": "code",
   "execution_count": 78,
   "metadata": {
    "collapsed": false
   },
   "outputs": [
    {
     "data": {
      "text/plain": [
       "<seaborn.axisgrid.FacetGrid at 0x7f5ee15e1150>"
      ]
     },
     "execution_count": 78,
     "metadata": {},
     "output_type": "execute_result"
    },
    {
     "data": {
      "image/png": "[encoded data removed]",
      "text/plain": [
       "<matplotlib.figure.Figure at 0x7f5ee5877450>"
      ]
     },
     "metadata": {},
     "output_type": "display_data"
    }
   ],
   "source": [
    "sns.factorplot('decade',data=building_frame,kind='count',aspect=3)\n",
    "# increasing trend of taller buildings"
   ]
  },
  {
   "cell_type": "code",
   "execution_count": 79,
   "metadata": {
    "collapsed": false
   },
   "outputs": [
    {
     "data": {
      "text/plain": [
       "<seaborn.axisgrid.FacetGrid at 0x7f5ee16c64d0>"
      ]
     },
     "execution_count": 79,
     "metadata": {},
     "output_type": "execute_result"
    },
    {
     "data": {
      "image/png": "[encoded data removed]",
      "text/plain": [
       "<matplotlib.figure.Figure at 0x7f5ee17e45d0>"
      ]
     },
     "metadata": {},
     "output_type": "display_data"
    }
   ],
   "source": [
    "# lets see the construction of building in each country according to the decade.\n",
    "sns.factorplot('Country',hue='decade',data=building_frame,kind='count',size=10, aspect=1.5)"
   ]
  },
  {
   "cell_type": "code",
   "execution_count": 80,
   "metadata": {
    "collapsed": true
   },
   "outputs": [],
   "source": [
    "# In US, most of the tall buildings were made in 1980-1990 decade. China and UAE had all their tall buildings built on 2010-2020"
   ]
  },
  {
   "cell_type": "code",
   "execution_count": 81,
   "metadata": {
    "collapsed": false
   },
   "outputs": [
    {
     "data": {
      "text/html": [
       "<div>\n",
       "<table border=\"1\" class=\"dataframe\">\n",
       "  <thead>\n",
       "    <tr style=\"text-align: right;\">\n",
       "      <th></th>\n",
       "      <th>Name</th>\n",
       "      <th>City</th>\n",
       "      <th>Country</th>\n",
       "      <th>Height_m</th>\n",
       "      <th>Height_ft</th>\n",
       "      <th>Floors</th>\n",
       "      <th>Completed</th>\n",
       "      <th>Material</th>\n",
       "      <th>Use</th>\n",
       "      <th>decade</th>\n",
       "    </tr>\n",
       "  </thead>\n",
       "  <tbody>\n",
       "    <tr>\n",
       "      <th>21</th>\n",
       "      <td>Empire State Building</td>\n",
       "      <td>New York City</td>\n",
       "      <td>US</td>\n",
       "      <td>381.0</td>\n",
       "      <td>1250</td>\n",
       "      <td>102</td>\n",
       "      <td>1931</td>\n",
       "      <td>steel</td>\n",
       "      <td>office</td>\n",
       "      <td>(1930, 1970]</td>\n",
       "    </tr>\n",
       "    <tr>\n",
       "      <th>57</th>\n",
       "      <td>Chrysler Building</td>\n",
       "      <td>New York City</td>\n",
       "      <td>US</td>\n",
       "      <td>318.9</td>\n",
       "      <td>1046</td>\n",
       "      <td>77</td>\n",
       "      <td>1930</td>\n",
       "      <td>steel</td>\n",
       "      <td>office</td>\n",
       "      <td>NaN</td>\n",
       "    </tr>\n",
       "  </tbody>\n",
       "</table>\n",
       "</div>"
      ],
      "text/plain": [
       "                     Name           City Country  Height_m  Height_ft  Floors  \\\n",
       "21  Empire State Building  New York City      US     381.0       1250     102   \n",
       "57      Chrysler Building  New York City      US     318.9       1046      77   \n",
       "\n",
       "    Completed Material     Use        decade  \n",
       "21       1931    steel  office  (1930, 1970]  \n",
       "57       1930    steel  office           NaN  "
      ]
     },
     "execution_count": 81,
     "metadata": {},
     "output_type": "execute_result"
    }
   ],
   "source": [
    "# The two buildings made before 1970 on the top 100 list both belong to US.\n",
    "building_frame[building_frame.Completed < 1940]"
   ]
  },
  {
   "cell_type": "code",
   "execution_count": 82,
   "metadata": {
    "collapsed": false
   },
   "outputs": [
    {
     "data": {
      "text/html": [
       "<div>\n",
       "<table border=\"1\" class=\"dataframe\">\n",
       "  <thead>\n",
       "    <tr style=\"text-align: right;\">\n",
       "      <th></th>\n",
       "      <th>Name</th>\n",
       "      <th>City</th>\n",
       "      <th>Country</th>\n",
       "      <th>Height_m</th>\n",
       "      <th>Height_ft</th>\n",
       "      <th>Floors</th>\n",
       "      <th>Completed</th>\n",
       "      <th>Material</th>\n",
       "      <th>Use</th>\n",
       "    </tr>\n",
       "  </thead>\n",
       "  <tbody>\n",
       "    <tr>\n",
       "      <th>0</th>\n",
       "      <td>Burj Khalifa</td>\n",
       "      <td>Dubai</td>\n",
       "      <td>AE</td>\n",
       "      <td>828.0</td>\n",
       "      <td>2717</td>\n",
       "      <td>163</td>\n",
       "      <td>2010</td>\n",
       "      <td>steel/concrete</td>\n",
       "      <td>office / residential / hotel</td>\n",
       "    </tr>\n",
       "    <tr>\n",
       "      <th>1</th>\n",
       "      <td>Makkah Royal Clock Tower Hotel</td>\n",
       "      <td>Mecca</td>\n",
       "      <td>SA</td>\n",
       "      <td>601.0</td>\n",
       "      <td>1972</td>\n",
       "      <td>120</td>\n",
       "      <td>2012</td>\n",
       "      <td>steel/concrete</td>\n",
       "      <td>other / hotel</td>\n",
       "    </tr>\n",
       "    <tr>\n",
       "      <th>2</th>\n",
       "      <td>One World Trade Center</td>\n",
       "      <td>New York City</td>\n",
       "      <td>US</td>\n",
       "      <td>541.3</td>\n",
       "      <td>1776</td>\n",
       "      <td>94</td>\n",
       "      <td>2014</td>\n",
       "      <td>composite</td>\n",
       "      <td>office</td>\n",
       "    </tr>\n",
       "    <tr>\n",
       "      <th>3</th>\n",
       "      <td>TAIPEI 101</td>\n",
       "      <td>Taipei</td>\n",
       "      <td>TW</td>\n",
       "      <td>508.0</td>\n",
       "      <td>1667</td>\n",
       "      <td>101</td>\n",
       "      <td>2004</td>\n",
       "      <td>composite</td>\n",
       "      <td>office</td>\n",
       "    </tr>\n",
       "    <tr>\n",
       "      <th>4</th>\n",
       "      <td>Shanghai World Financial Center</td>\n",
       "      <td>Shanghai</td>\n",
       "      <td>CN</td>\n",
       "      <td>492.0</td>\n",
       "      <td>1614</td>\n",
       "      <td>101</td>\n",
       "      <td>2008</td>\n",
       "      <td>composite</td>\n",
       "      <td>hotel / office</td>\n",
       "    </tr>\n",
       "  </tbody>\n",
       "</table>\n",
       "</div>"
      ],
      "text/plain": [
       "                              Name           City Country  Height_m  \\\n",
       "0                     Burj Khalifa          Dubai      AE     828.0   \n",
       "1   Makkah Royal Clock Tower Hotel          Mecca      SA     601.0   \n",
       "2           One World Trade Center  New York City      US     541.3   \n",
       "3                       TAIPEI 101         Taipei      TW     508.0   \n",
       "4  Shanghai World Financial Center       Shanghai      CN     492.0   \n",
       "\n",
       "   Height_ft  Floors  Completed        Material                           Use  \n",
       "0       2717     163       2010  steel/concrete  office / residential / hotel  \n",
       "1       1972     120       2012  steel/concrete                 other / hotel  \n",
       "2       1776      94       2014       composite                        office  \n",
       "3       1667     101       2004       composite                        office  \n",
       "4       1614     101       2008       composite                hotel / office  "
      ]
     },
     "execution_count": 82,
     "metadata": {},
     "output_type": "execute_result"
    }
   ],
   "source": [
    "# Lets do the same for the top 10 buildings\n",
    "top10_df.head()"
   ]
  },
  {
   "cell_type": "code",
   "execution_count": null,
   "metadata": {
    "collapsed": true
   },
   "outputs": [],
   "source": []
  },
  {
   "cell_type": "code",
   "execution_count": 83,
   "metadata": {
    "collapsed": false
   },
   "outputs": [
    {
     "name": "stderr",
     "output_type": "stream",
     "text": [
      "/home/conf/anaconda/lib/python2.7/site-packages/IPython/kernel/__main__.py:1: SettingWithCopyWarning: \n",
      "A value is trying to be set on a copy of a slice from a DataFrame.\n",
      "Try using .loc[row_indexer,col_indexer] = value instead\n",
      "\n",
      "See the caveats in the documentation: http://pandas.pydata.org/pandas-docs/stable/indexing.html#indexing-view-versus-copy\n",
      "  if __name__ == '__main__':\n"
     ]
    }
   ],
   "source": [
    "top10_df['decade'] = pd.cut(top10_df.Completed,decades)"
   ]
  },
  {
   "cell_type": "code",
   "execution_count": 84,
   "metadata": {
    "collapsed": false
   },
   "outputs": [
    {
     "data": {
      "text/plain": [
       "<seaborn.axisgrid.FacetGrid at 0x7f5ee16c6c90>"
      ]
     },
     "execution_count": 84,
     "metadata": {},
     "output_type": "execute_result"
    },
    {
     "data": {
      "image/png": "[encoded data removed]",
      "text/plain": [
       "<matplotlib.figure.Figure at 0x7f5ee106ab90>"
      ]
     },
     "metadata": {},
     "output_type": "display_data"
    }
   ],
   "source": [
    "sns.factorplot('decade',data=top10_df,kind='count',aspect=3)\n",
    "#None of the buildings made in 1980-1990 are in the top 10. But, one made in 1970 is in top 10."
   ]
  },
  {
   "cell_type": "code",
   "execution_count": 85,
   "metadata": {
    "collapsed": false
   },
   "outputs": [
    {
     "data": {
      "text/html": [
       "<div>\n",
       "<table border=\"1\" class=\"dataframe\">\n",
       "  <thead>\n",
       "    <tr style=\"text-align: right;\">\n",
       "      <th></th>\n",
       "      <th>Name</th>\n",
       "      <th>City</th>\n",
       "      <th>Country</th>\n",
       "      <th>Height_m</th>\n",
       "      <th>Height_ft</th>\n",
       "      <th>Floors</th>\n",
       "      <th>Completed</th>\n",
       "      <th>Material</th>\n",
       "      <th>Use</th>\n",
       "      <th>decade</th>\n",
       "    </tr>\n",
       "  </thead>\n",
       "  <tbody>\n",
       "    <tr>\n",
       "      <th>9</th>\n",
       "      <td>Willis Tower</td>\n",
       "      <td>Chicago</td>\n",
       "      <td>US</td>\n",
       "      <td>442.1</td>\n",
       "      <td>1451</td>\n",
       "      <td>108</td>\n",
       "      <td>1974</td>\n",
       "      <td>steel</td>\n",
       "      <td>office</td>\n",
       "      <td>(1970, 1980]</td>\n",
       "    </tr>\n",
       "  </tbody>\n",
       "</table>\n",
       "</div>"
      ],
      "text/plain": [
       "           Name     City Country  Height_m  Height_ft  Floors  Completed  \\\n",
       "9  Willis Tower  Chicago      US     442.1       1451     108       1974   \n",
       "\n",
       "  Material     Use        decade  \n",
       "9    steel  office  (1970, 1980]  "
      ]
     },
     "execution_count": 85,
     "metadata": {},
     "output_type": "execute_result"
    }
   ],
   "source": [
    "# Lets see which one was made in 1970-1980\n",
    "top10_df[top10_df.Completed < 1981]"
   ]
  },
  {
   "cell_type": "code",
   "execution_count": 86,
   "metadata": {
    "collapsed": false
   },
   "outputs": [
    {
     "data": {
      "text/plain": [
       "<matplotlib.axes._subplots.AxesSubplot at 0x7f5ee1654190>"
      ]
     },
     "execution_count": 86,
     "metadata": {},
     "output_type": "execute_result"
    },
    {
     "data": {
      "image/png": "[encoded data removed]",
      "text/plain": [
       "<matplotlib.figure.Figure at 0x7f5ee15b4750>"
      ]
     },
     "metadata": {},
     "output_type": "display_data"
    }
   ],
   "source": [
    "building_frame['Completed'].hist()\n",
    "# instead of all these binnings, we could have just plotted a histogram of the completed date to see the trend.\n"
   ]
  },
  {
   "cell_type": "code",
   "execution_count": 87,
   "metadata": {
    "collapsed": false
   },
   "outputs": [
    {
     "data": {
      "text/plain": [
       "2004.74"
      ]
     },
     "execution_count": 87,
     "metadata": {},
     "output_type": "execute_result"
    }
   ],
   "source": [
    "building_frame['Completed'].mean()"
   ]
  },
  {
   "cell_type": "code",
   "execution_count": 88,
   "metadata": {
    "collapsed": false
   },
   "outputs": [
    {
     "data": {
      "text/plain": [
       "2015    11\n",
       "2014    11\n",
       "2013     9\n",
       "2011     9\n",
       "2010     9\n",
       "2012     8\n",
       "2008     5\n",
       "2009     3\n",
       "2007     3\n",
       "1990     3\n",
       "1998     3\n",
       "1992     2\n",
       "1996     2\n",
       "1997     2\n",
       "1999     2\n",
       "2000     2\n",
       "2006     2\n",
       "2001     1\n",
       "2002     1\n",
       "2003     1\n",
       "2004     1\n",
       "2005     1\n",
       "1989     1\n",
       "1983     1\n",
       "1982     1\n",
       "1975     1\n",
       "1974     1\n",
       "1973     1\n",
       "1969     1\n",
       "1931     1\n",
       "1930     1\n",
       "Name: Completed, dtype: int64"
      ]
     },
     "execution_count": 88,
     "metadata": {},
     "output_type": "execute_result"
    }
   ],
   "source": [
    "building_frame['Completed'].value_counts()"
   ]
  },
  {
   "cell_type": "code",
   "execution_count": 89,
   "metadata": {
    "collapsed": false
   },
   "outputs": [
    {
     "data": {
      "text/plain": [
       "352.3310000000001"
      ]
     },
     "execution_count": 89,
     "metadata": {},
     "output_type": "execute_result"
    },
    {
     "data": {
      "image/png": "[encoded data removed]",
      "text/plain": [
       "<matplotlib.figure.Figure at 0x7f5ee10763d0>"
      ]
     },
     "metadata": {},
     "output_type": "display_data"
    }
   ],
   "source": [
    "building_frame['Height_m'].hist()\n",
    "building_frame['Height_m'].mean()\n",
    "#The mean height 352"
   ]
  },
  {
   "cell_type": "code",
   "execution_count": 90,
   "metadata": {
    "collapsed": false
   },
   "outputs": [
    {
     "data": {
      "text/plain": [
       "composite         43\n",
       "concrete          40\n",
       "steel             12\n",
       "steel/concrete     5\n",
       "Name: Material, dtype: int64"
      ]
     },
     "execution_count": 90,
     "metadata": {},
     "output_type": "execute_result"
    }
   ],
   "source": [
    "building_frame['Material'].value_counts()"
   ]
  },
  {
   "cell_type": "code",
   "execution_count": 91,
   "metadata": {
    "collapsed": false
   },
   "outputs": [
    {
     "data": {
      "text/plain": [
       "<seaborn.axisgrid.FacetGrid at 0x7f5ee145be90>"
      ]
     },
     "execution_count": 91,
     "metadata": {},
     "output_type": "execute_result"
    },
    {
     "data": {
      "image/png": "[encoded data removed]",
      "text/plain": [
       "<matplotlib.figure.Figure at 0x7f5ee15b4250>"
      ]
     },
     "metadata": {},
     "output_type": "display_data"
    }
   ],
   "source": [
    "sns.factorplot('decade',hue='Material',data=building_frame,kind='count',aspect=3)\n",
    "# Among the top 100 buildings, the ones that were made in 1980s were only made up of steel."
   ]
  },
  {
   "cell_type": "code",
   "execution_count": 92,
   "metadata": {
    "collapsed": true
   },
   "outputs": [],
   "source": [
    "# whats the largest building of each country"
   ]
  },
  {
   "cell_type": "code",
   "execution_count": 93,
   "metadata": {
    "collapsed": false
   },
   "outputs": [],
   "source": [
    "largest_by_country = building_frame.groupby(['Country'])['Height_m'].max()"
   ]
  },
  {
   "cell_type": "code",
   "execution_count": 94,
   "metadata": {
    "collapsed": false
   },
   "outputs": [
    {
     "data": {
      "text/plain": [
       "828.0"
      ]
     },
     "execution_count": 94,
     "metadata": {},
     "output_type": "execute_result"
    }
   ],
   "source": [
    "largest_by_country[0]"
   ]
  },
  {
   "cell_type": "code",
   "execution_count": 95,
   "metadata": {
    "collapsed": false
   },
   "outputs": [
    {
     "data": {
      "text/plain": [
       "'AE'"
      ]
     },
     "execution_count": 95,
     "metadata": {},
     "output_type": "execute_result"
    }
   ],
   "source": [
    "largest_by_country.index[0]"
   ]
  },
  {
   "cell_type": "code",
   "execution_count": 96,
   "metadata": {
    "collapsed": false
   },
   "outputs": [
    {
     "data": {
      "text/html": [
       "<div>\n",
       "<table border=\"1\" class=\"dataframe\">\n",
       "  <thead>\n",
       "    <tr style=\"text-align: right;\">\n",
       "      <th></th>\n",
       "      <th>Name</th>\n",
       "      <th>City</th>\n",
       "      <th>Country</th>\n",
       "      <th>Height_m</th>\n",
       "      <th>Height_ft</th>\n",
       "      <th>Floors</th>\n",
       "      <th>Completed</th>\n",
       "      <th>Material</th>\n",
       "      <th>Use</th>\n",
       "      <th>decade</th>\n",
       "    </tr>\n",
       "  </thead>\n",
       "  <tbody>\n",
       "    <tr>\n",
       "      <th>0</th>\n",
       "      <td>Burj Khalifa</td>\n",
       "      <td>Dubai</td>\n",
       "      <td>AE</td>\n",
       "      <td>828</td>\n",
       "      <td>2717</td>\n",
       "      <td>163</td>\n",
       "      <td>2010</td>\n",
       "      <td>steel/concrete</td>\n",
       "      <td>office / residential / hotel</td>\n",
       "      <td>(2000, 2010]</td>\n",
       "    </tr>\n",
       "  </tbody>\n",
       "</table>\n",
       "</div>"
      ],
      "text/plain": [
       "           Name   City Country  Height_m  Height_ft  Floors  Completed  \\\n",
       "0  Burj Khalifa  Dubai      AE       828       2717     163       2010   \n",
       "\n",
       "         Material                           Use        decade  \n",
       "0  steel/concrete  office / residential / hotel  (2000, 2010]  "
      ]
     },
     "execution_count": 96,
     "metadata": {},
     "output_type": "execute_result"
    }
   ],
   "source": [
    "building_frame[(building_frame['Height_m']==largest_by_country[0]) & (building_frame['Country']==largest_by_country.index[0])]"
   ]
  },
  {
   "cell_type": "code",
   "execution_count": 97,
   "metadata": {
    "collapsed": false
   },
   "outputs": [
    {
     "data": {
      "text/html": [
       "<div>\n",
       "<table border=\"1\" class=\"dataframe\">\n",
       "  <thead>\n",
       "    <tr style=\"text-align: right;\">\n",
       "      <th></th>\n",
       "      <th>Name</th>\n",
       "      <th>City</th>\n",
       "      <th>Country</th>\n",
       "      <th>Height_m</th>\n",
       "      <th>Height_ft</th>\n",
       "      <th>Floors</th>\n",
       "      <th>Completed</th>\n",
       "      <th>Material</th>\n",
       "      <th>Use</th>\n",
       "      <th>decade</th>\n",
       "    </tr>\n",
       "  </thead>\n",
       "  <tbody>\n",
       "    <tr>\n",
       "      <th>0</th>\n",
       "      <td>Burj Khalifa</td>\n",
       "      <td>Dubai</td>\n",
       "      <td>AE</td>\n",
       "      <td>828.0</td>\n",
       "      <td>2717</td>\n",
       "      <td>163</td>\n",
       "      <td>2010</td>\n",
       "      <td>steel/concrete</td>\n",
       "      <td>office / residential / hotel</td>\n",
       "      <td>(2000, 2010]</td>\n",
       "    </tr>\n",
       "    <tr>\n",
       "      <th>1</th>\n",
       "      <td>Makkah Royal Clock Tower Hotel</td>\n",
       "      <td>Mecca</td>\n",
       "      <td>SA</td>\n",
       "      <td>601.0</td>\n",
       "      <td>1972</td>\n",
       "      <td>120</td>\n",
       "      <td>2012</td>\n",
       "      <td>steel/concrete</td>\n",
       "      <td>other / hotel</td>\n",
       "      <td>(2010, 2020]</td>\n",
       "    </tr>\n",
       "    <tr>\n",
       "      <th>2</th>\n",
       "      <td>One World Trade Center</td>\n",
       "      <td>New York City</td>\n",
       "      <td>US</td>\n",
       "      <td>541.3</td>\n",
       "      <td>1776</td>\n",
       "      <td>94</td>\n",
       "      <td>2014</td>\n",
       "      <td>composite</td>\n",
       "      <td>office</td>\n",
       "      <td>(2010, 2020]</td>\n",
       "    </tr>\n",
       "    <tr>\n",
       "      <th>3</th>\n",
       "      <td>TAIPEI 101</td>\n",
       "      <td>Taipei</td>\n",
       "      <td>TW</td>\n",
       "      <td>508.0</td>\n",
       "      <td>1667</td>\n",
       "      <td>101</td>\n",
       "      <td>2004</td>\n",
       "      <td>composite</td>\n",
       "      <td>office</td>\n",
       "      <td>(2000, 2010]</td>\n",
       "    </tr>\n",
       "    <tr>\n",
       "      <th>4</th>\n",
       "      <td>Shanghai World Financial Center</td>\n",
       "      <td>Shanghai</td>\n",
       "      <td>CN</td>\n",
       "      <td>492.0</td>\n",
       "      <td>1614</td>\n",
       "      <td>101</td>\n",
       "      <td>2008</td>\n",
       "      <td>composite</td>\n",
       "      <td>hotel / office</td>\n",
       "      <td>(2000, 2010]</td>\n",
       "    </tr>\n",
       "    <tr>\n",
       "      <th>6</th>\n",
       "      <td>Petronas Twin Tower 1</td>\n",
       "      <td>Kuala Lumpur</td>\n",
       "      <td>MY</td>\n",
       "      <td>451.9</td>\n",
       "      <td>1483</td>\n",
       "      <td>88</td>\n",
       "      <td>1998</td>\n",
       "      <td>composite</td>\n",
       "      <td>office</td>\n",
       "      <td>(1990, 2000]</td>\n",
       "    </tr>\n",
       "    <tr>\n",
       "      <th>7</th>\n",
       "      <td>Petronas Twin Tower 2</td>\n",
       "      <td>Kuala Lumpur</td>\n",
       "      <td>MY</td>\n",
       "      <td>451.9</td>\n",
       "      <td>1483</td>\n",
       "      <td>88</td>\n",
       "      <td>1998</td>\n",
       "      <td>composite</td>\n",
       "      <td>office</td>\n",
       "      <td>(1990, 2000]</td>\n",
       "    </tr>\n",
       "    <tr>\n",
       "      <th>15</th>\n",
       "      <td>Al Hamra Tower</td>\n",
       "      <td>Kuwait City</td>\n",
       "      <td>KW</td>\n",
       "      <td>412.6</td>\n",
       "      <td>1354</td>\n",
       "      <td>80</td>\n",
       "      <td>2011</td>\n",
       "      <td>concrete</td>\n",
       "      <td>office</td>\n",
       "      <td>(2010, 2020]</td>\n",
       "    </tr>\n",
       "    <tr>\n",
       "      <th>30</th>\n",
       "      <td>OKO - Residential Tower</td>\n",
       "      <td>Moscow</td>\n",
       "      <td>RU</td>\n",
       "      <td>353.6</td>\n",
       "      <td>1160</td>\n",
       "      <td>90</td>\n",
       "      <td>2015</td>\n",
       "      <td>concrete</td>\n",
       "      <td>residential / serviced apartments / hotel</td>\n",
       "      <td>(2010, 2020]</td>\n",
       "    </tr>\n",
       "    <tr>\n",
       "      <th>46</th>\n",
       "      <td>Keangnam Hanoi Landmark Tower</td>\n",
       "      <td>Hanoi</td>\n",
       "      <td>VN</td>\n",
       "      <td>328.6</td>\n",
       "      <td>1078</td>\n",
       "      <td>72</td>\n",
       "      <td>2012</td>\n",
       "      <td>concrete</td>\n",
       "      <td>hotel / residential / office</td>\n",
       "      <td>(2010, 2020]</td>\n",
       "    </tr>\n",
       "    <tr>\n",
       "      <th>53</th>\n",
       "      <td>Q1 Tower</td>\n",
       "      <td>Gold Coast</td>\n",
       "      <td>AU</td>\n",
       "      <td>322.5</td>\n",
       "      <td>1058</td>\n",
       "      <td>78</td>\n",
       "      <td>2005</td>\n",
       "      <td>concrete</td>\n",
       "      <td>residential</td>\n",
       "      <td>(2000, 2010]</td>\n",
       "    </tr>\n",
       "    <tr>\n",
       "      <th>75</th>\n",
       "      <td>The Shard</td>\n",
       "      <td>London</td>\n",
       "      <td>GB</td>\n",
       "      <td>306.0</td>\n",
       "      <td>1004</td>\n",
       "      <td>73</td>\n",
       "      <td>2013</td>\n",
       "      <td>composite</td>\n",
       "      <td>residential / hotel / office</td>\n",
       "      <td>(2010, 2020]</td>\n",
       "    </tr>\n",
       "    <tr>\n",
       "      <th>78</th>\n",
       "      <td>Northeast Asia Trade Tower</td>\n",
       "      <td>Incheon</td>\n",
       "      <td>KR</td>\n",
       "      <td>305.0</td>\n",
       "      <td>1001</td>\n",
       "      <td>68</td>\n",
       "      <td>2011</td>\n",
       "      <td>composite</td>\n",
       "      <td>residential / hotel / office</td>\n",
       "      <td>(2010, 2020]</td>\n",
       "    </tr>\n",
       "    <tr>\n",
       "      <th>79</th>\n",
       "      <td>Baiyoke Tower II</td>\n",
       "      <td>Bangkok</td>\n",
       "      <td>TH</td>\n",
       "      <td>304.0</td>\n",
       "      <td>997</td>\n",
       "      <td>85</td>\n",
       "      <td>1997</td>\n",
       "      <td>concrete</td>\n",
       "      <td>hotel</td>\n",
       "      <td>(1990, 2000]</td>\n",
       "    </tr>\n",
       "    <tr>\n",
       "      <th>96</th>\n",
       "      <td>Aspire Tower</td>\n",
       "      <td>Doha</td>\n",
       "      <td>QA</td>\n",
       "      <td>300.0</td>\n",
       "      <td>984</td>\n",
       "      <td>36</td>\n",
       "      <td>2007</td>\n",
       "      <td>composite</td>\n",
       "      <td>hotel / office</td>\n",
       "      <td>(2000, 2010]</td>\n",
       "    </tr>\n",
       "    <tr>\n",
       "      <th>94</th>\n",
       "      <td>Abeno Harukas</td>\n",
       "      <td>Osaka</td>\n",
       "      <td>JP</td>\n",
       "      <td>300.0</td>\n",
       "      <td>984</td>\n",
       "      <td>60</td>\n",
       "      <td>2014</td>\n",
       "      <td>steel</td>\n",
       "      <td>hotel / office / retail</td>\n",
       "      <td>(2010, 2020]</td>\n",
       "    </tr>\n",
       "    <tr>\n",
       "      <th>93</th>\n",
       "      <td>Torre Costanera</td>\n",
       "      <td>Santiago</td>\n",
       "      <td>CL</td>\n",
       "      <td>300.0</td>\n",
       "      <td>984</td>\n",
       "      <td>62</td>\n",
       "      <td>2014</td>\n",
       "      <td>concrete</td>\n",
       "      <td>office</td>\n",
       "      <td>(2010, 2020]</td>\n",
       "    </tr>\n",
       "    <tr>\n",
       "      <th>97</th>\n",
       "      <td>First Canadian Place</td>\n",
       "      <td>Toronto</td>\n",
       "      <td>CA</td>\n",
       "      <td>298.1</td>\n",
       "      <td>978</td>\n",
       "      <td>72</td>\n",
       "      <td>1975</td>\n",
       "      <td>steel</td>\n",
       "      <td>office</td>\n",
       "      <td>(1970, 1980]</td>\n",
       "    </tr>\n",
       "  </tbody>\n",
       "</table>\n",
       "</div>"
      ],
      "text/plain": [
       "                               Name           City Country  Height_m  \\\n",
       "0                      Burj Khalifa          Dubai      AE     828.0   \n",
       "1    Makkah Royal Clock Tower Hotel          Mecca      SA     601.0   \n",
       "2            One World Trade Center  New York City      US     541.3   \n",
       "3                        TAIPEI 101         Taipei      TW     508.0   \n",
       "4   Shanghai World Financial Center       Shanghai      CN     492.0   \n",
       "6             Petronas Twin Tower 1   Kuala Lumpur      MY     451.9   \n",
       "7             Petronas Twin Tower 2   Kuala Lumpur      MY     451.9   \n",
       "15                   Al Hamra Tower    Kuwait City      KW     412.6   \n",
       "30          OKO - Residential Tower         Moscow      RU     353.6   \n",
       "46    Keangnam Hanoi Landmark Tower          Hanoi      VN     328.6   \n",
       "53                         Q1 Tower     Gold Coast      AU     322.5   \n",
       "75                        The Shard         London      GB     306.0   \n",
       "78       Northeast Asia Trade Tower        Incheon      KR     305.0   \n",
       "79                 Baiyoke Tower II        Bangkok      TH     304.0   \n",
       "96                     Aspire Tower           Doha      QA     300.0   \n",
       "94                    Abeno Harukas          Osaka      JP     300.0   \n",
       "93                  Torre Costanera       Santiago      CL     300.0   \n",
       "97             First Canadian Place        Toronto      CA     298.1   \n",
       "\n",
       "    Height_ft  Floors  Completed        Material  \\\n",
       "0        2717     163       2010  steel/concrete   \n",
       "1        1972     120       2012  steel/concrete   \n",
       "2        1776      94       2014       composite   \n",
       "3        1667     101       2004       composite   \n",
       "4        1614     101       2008       composite   \n",
       "6        1483      88       1998       composite   \n",
       "7        1483      88       1998       composite   \n",
       "15       1354      80       2011        concrete   \n",
       "30       1160      90       2015        concrete   \n",
       "46       1078      72       2012        concrete   \n",
       "53       1058      78       2005        concrete   \n",
       "75       1004      73       2013       composite   \n",
       "78       1001      68       2011       composite   \n",
       "79        997      85       1997        concrete   \n",
       "96        984      36       2007       composite   \n",
       "94        984      60       2014           steel   \n",
       "93        984      62       2014        concrete   \n",
       "97        978      72       1975           steel   \n",
       "\n",
       "                                          Use        decade  \n",
       "0                office / residential / hotel  (2000, 2010]  \n",
       "1                               other / hotel  (2010, 2020]  \n",
       "2                                      office  (2010, 2020]  \n",
       "3                                      office  (2000, 2010]  \n",
       "4                              hotel / office  (2000, 2010]  \n",
       "6                                      office  (1990, 2000]  \n",
       "7                                      office  (1990, 2000]  \n",
       "15                                     office  (2010, 2020]  \n",
       "30  residential / serviced apartments / hotel  (2010, 2020]  \n",
       "46               hotel / residential / office  (2010, 2020]  \n",
       "53                                residential  (2000, 2010]  \n",
       "75               residential / hotel / office  (2010, 2020]  \n",
       "78               residential / hotel / office  (2010, 2020]  \n",
       "79                                      hotel  (1990, 2000]  \n",
       "96                             hotel / office  (2000, 2010]  \n",
       "94                    hotel / office / retail  (2010, 2020]  \n",
       "93                                     office  (2010, 2020]  \n",
       "97                                     office  (1970, 1980]  "
      ]
     },
     "execution_count": 97,
     "metadata": {},
     "output_type": "execute_result"
    }
   ],
   "source": [
    "i = 0\n",
    "largest = pd.DataFrame()\n",
    "\n",
    "for height in largest_by_country:\n",
    "    new = building_frame[(building_frame['Height_m']==largest_by_country[i]) & (building_frame['Country']==largest_by_country.index[i])]\n",
    "    largest = pd.concat([new,largest])\n",
    "    i+=1\n",
    "largest.sort_values(by='Height_m', ascending=False)\n",
    "#the largest buildings of each country"
   ]
  },
  {
   "cell_type": "code",
   "execution_count": 98,
   "metadata": {
    "collapsed": false
   },
   "outputs": [],
   "source": [
    "# we can do the same to find the smallest ones. Lets plot it now."
   ]
  },
  {
   "cell_type": "code",
   "execution_count": 99,
   "metadata": {
    "collapsed": false,
    "scrolled": true
   },
   "outputs": [
    {
     "data": {
      "text/plain": [
       "<matplotlib.axes._subplots.AxesSubplot at 0x7f5ee111a1d0>"
      ]
     },
     "execution_count": 99,
     "metadata": {},
     "output_type": "execute_result"
    },
    {
     "data": {
      "image/png": "[encoded data removed]",
      "text/plain": [
       "<matplotlib.figure.Figure at 0x7f5ee10cc3d0>"
      ]
     },
     "metadata": {},
     "output_type": "display_data"
    }
   ],
   "source": [
    "largest.plot(x='Country',y='Height_m',kind='barh',cmap='seismic',figsize=(10,7))"
   ]
  },
  {
   "cell_type": "code",
   "execution_count": 100,
   "metadata": {
    "collapsed": false
   },
   "outputs": [
    {
     "data": {
      "text/plain": [
       "<matplotlib.axes._subplots.AxesSubplot at 0x7f5ee0c08110>"
      ]
     },
     "execution_count": 100,
     "metadata": {},
     "output_type": "execute_result"
    },
    {
     "data": {
      "image/png": "[encoded data removed]",
      "text/plain": [
       "<matplotlib.figure.Figure at 0x7f5ee0c05790>"
      ]
     },
     "metadata": {},
     "output_type": "display_data"
    }
   ],
   "source": [
    "sns.distplot(largest['Floors'],color='purple')\n",
    "# distribution plot of floors"
   ]
  },
  {
   "cell_type": "code",
   "execution_count": 101,
   "metadata": {
    "collapsed": false
   },
   "outputs": [
    {
     "data": {
      "text/plain": [
       "85.05555555555556"
      ]
     },
     "execution_count": 101,
     "metadata": {},
     "output_type": "execute_result"
    }
   ],
   "source": [
    "largest['Floors'].mean()\n",
    "# the average number of floors seem to be 85"
   ]
  },
  {
   "cell_type": "code",
   "execution_count": 102,
   "metadata": {
    "collapsed": false
   },
   "outputs": [
    {
     "data": {
      "text/plain": [
       "<seaborn.axisgrid.JointGrid at 0x7f5ee0b26a90>"
      ]
     },
     "execution_count": 102,
     "metadata": {},
     "output_type": "execute_result"
    },
    {
     "data": {
      "image/png": "[encoded data removed]",
      "text/plain": [
       "<matplotlib.figure.Figure at 0x7f5ee10e6c10>"
      ]
     },
     "metadata": {},
     "output_type": "display_data"
    }
   ],
   "source": [
    "sns.jointplot('Floors','Height_m',building_frame,kind='scatter')\n",
    "# Let's see the correlation between the number of floors and the height. As the height increases, the floor\n",
    "# should also increase, right?"
   ]
  },
  {
   "cell_type": "code",
   "execution_count": 103,
   "metadata": {
    "collapsed": false
   },
   "outputs": [
    {
     "data": {
      "text/plain": [
       "<seaborn.axisgrid.JointGrid at 0x7f5ee0c17f90>"
      ]
     },
     "execution_count": 103,
     "metadata": {},
     "output_type": "execute_result"
    },
    {
     "data": {
      "image/png": "[encoded data removed]",
      "text/plain": [
       "<matplotlib.figure.Figure at 0x7f5ee085ddd0>"
      ]
     },
     "metadata": {},
     "output_type": "display_data"
    }
   ],
   "source": [
    "# and so it does. strongly correlated; r = 0.8.\n",
    "sns.jointplot('Height_m','Height_ft',building_frame,kind='scatter')\n",
    "# and obviously height in metre and height in ft result in 1."
   ]
  },
  {
   "cell_type": "code",
   "execution_count": 109,
   "metadata": {
    "collapsed": false
   },
   "outputs": [
    {
     "data": {
      "text/html": [
       "<div>\n",
       "<table border=\"1\" class=\"dataframe\">\n",
       "  <thead>\n",
       "    <tr style=\"text-align: right;\">\n",
       "      <th></th>\n",
       "      <th>Height_m</th>\n",
       "      <th>Height_ft</th>\n",
       "      <th>Floors</th>\n",
       "      <th>Completed</th>\n",
       "    </tr>\n",
       "  </thead>\n",
       "  <tbody>\n",
       "    <tr>\n",
       "      <th>Height_m</th>\n",
       "      <td>1.000000</td>\n",
       "      <td>0.999999</td>\n",
       "      <td>0.797293</td>\n",
       "      <td>-0.002973</td>\n",
       "    </tr>\n",
       "    <tr>\n",
       "      <th>Height_ft</th>\n",
       "      <td>0.999999</td>\n",
       "      <td>1.000000</td>\n",
       "      <td>0.797335</td>\n",
       "      <td>-0.003020</td>\n",
       "    </tr>\n",
       "    <tr>\n",
       "      <th>Floors</th>\n",
       "      <td>0.797293</td>\n",
       "      <td>0.797335</td>\n",
       "      <td>1.000000</td>\n",
       "      <td>-0.124742</td>\n",
       "    </tr>\n",
       "    <tr>\n",
       "      <th>Completed</th>\n",
       "      <td>-0.002973</td>\n",
       "      <td>-0.003020</td>\n",
       "      <td>-0.124742</td>\n",
       "      <td>1.000000</td>\n",
       "    </tr>\n",
       "  </tbody>\n",
       "</table>\n",
       "</div>"
      ],
      "text/plain": [
       "           Height_m  Height_ft    Floors  Completed\n",
       "Height_m   1.000000   0.999999  0.797293  -0.002973\n",
       "Height_ft  0.999999   1.000000  0.797335  -0.003020\n",
       "Floors     0.797293   0.797335  1.000000  -0.124742\n",
       "Completed -0.002973  -0.003020 -0.124742   1.000000"
      ]
     },
     "execution_count": 109,
     "metadata": {},
     "output_type": "execute_result"
    }
   ],
   "source": [
    "# now here's a correlation of all the factors\n",
    "building_frame.corr()"
   ]
  },
  {
   "cell_type": "code",
   "execution_count": 104,
   "metadata": {
    "collapsed": false
   },
   "outputs": [
    {
     "data": {
      "text/plain": [
       "<seaborn.axisgrid.FacetGrid at 0x7f5ee10d9e50>"
      ]
     },
     "execution_count": 104,
     "metadata": {},
     "output_type": "execute_result"
    },
    {
     "data": {
      "image/png": "[encoded data removed]",
      "text/plain": [
       "<matplotlib.figure.Figure at 0x7f5ee0c00050>"
      ]
     },
     "metadata": {},
     "output_type": "display_data"
    }
   ],
   "source": [
    "use = sns.factorplot('decade',hue='Use',data=building_frame,kind='count',aspect=3)\n",
    "use.set_xticklabels(rotation=60)\n",
    "# lets see the use of the buildings by decade. The buildings (in top 100), until 1990-2000, were not meant for residential purpose.\n",
    "# but only for housing offices, and hotels."
   ]
  },
  {
   "cell_type": "code",
   "execution_count": 105,
   "metadata": {
    "collapsed": false
   },
   "outputs": [
    {
     "data": {
      "text/plain": [
       "<seaborn.axisgrid.FacetGrid at 0x7f5ee07b7250>"
      ]
     },
     "execution_count": 105,
     "metadata": {},
     "output_type": "execute_result"
    },
    {
     "data": {
      "image/png": "[encoded data removed]",
      "text/plain": [
       "<matplotlib.figure.Figure at 0x7f5ee070c6d0>"
      ]
     },
     "metadata": {},
     "output_type": "display_data"
    }
   ],
   "source": [
    "use = sns.factorplot('decade','Height_m',hue='Material',data=building_frame,aspect=3)\n",
    "use.set_xticklabels(rotation=60)\n",
    "# Among the top 100 buildings, the ones that were made in 1980s used only steels. \n",
    "# As the height increased, steel/concrete combination was used. \n",
    "# Steels are still used for heights of ~300ish."
   ]
  },
  {
   "cell_type": "markdown",
   "metadata": {
    "collapsed": false
   },
   "source": [
    "-----\n",
    "By Subigya Nepal\n",
    "\n",
    "* Website: TheLacunaBlog.com\n",
    "* Twitter: @SkNepal\n",
    "* Mail: subigyanepal at gmail dot com.\n",
    "* Date: October, 2015.\n",
    "* Published on November, 2016."
   ]
  },
  {
   "cell_type": "code",
   "execution_count": null,
   "metadata": {
    "collapsed": true
   },
   "outputs": [],
   "source": []
  }
 ],
 "metadata": {
  "anaconda-cloud": {},
  "kernelspec": {
   "display_name": "Python [Root]",
   "language": "python",
   "name": "Python [Root]"
  },
  "language_info": {
   "codemirror_mode": {
    "name": "ipython",
    "version": 2
   },
   "file_extension": ".py",
   "mimetype": "text/x-python",
   "name": "python",
   "nbconvert_exporter": "python",
   "pygments_lexer": "ipython2",
   "version": "2.7.11"
  }
 },
 "nbformat": 4,
 "nbformat_minor": 0
}
